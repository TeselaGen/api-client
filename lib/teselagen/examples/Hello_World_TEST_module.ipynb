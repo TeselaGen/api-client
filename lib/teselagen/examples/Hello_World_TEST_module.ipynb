{
 "cells": [
  {
   "cell_type": "markdown",
   "metadata": {},
   "source": [
    "# Hello World! (TEST module)"
   ]
  },
  {
   "cell_type": "markdown",
   "metadata": {},
   "source": [
    "This notebook is intended to show how to use the Teselagen Python's client to access the TEST module. "
   ]
  },
  {
   "cell_type": "code",
   "execution_count": 1,
   "metadata": {},
   "outputs": [
    {
     "name": "stdout",
     "output_type": "stream",
     "text": [
      "python version     : 3.6.9\n",
      "json version       : 2.0.9\n",
      "pandas version     : 1.1.2\n",
      "matplotlib version : 3.3.2\n"
     ]
    }
   ],
   "source": [
    "import json\n",
    "import platform\n",
    "from pathlib import Path\n",
    "\n",
    "import matplotlib\n",
    "import matplotlib.pyplot as plt\n",
    "import pandas as pd\n",
    "\n",
    "from teselagen.api.test_client import TESTClient\n",
    "from teselagen.utils.utils import get_project_root\n",
    "\n",
    "plt.style.use('seaborn-colorblind')\n",
    "\n",
    "print(f\"python version     : {platform.python_version()}\")\n",
    "print(f\"json version       : {json.__version__}\")\n",
    "print(f\"pandas version     : {pd.__version__}\")\n",
    "print(f\"matplotlib version : {matplotlib.__version__}\")"
   ]
  },
  {
   "cell_type": "markdown",
   "metadata": {},
   "source": [
    "## Connect and Login"
   ]
  },
  {
   "cell_type": "code",
   "execution_count": 2,
   "metadata": {},
   "outputs": [
    {
     "name": "stdout",
     "output_type": "stream",
     "text": [
      "Connection Accepted\n"
     ]
    }
   ],
   "source": [
    "host_url=\"https://platform.teselagen.com\"\n",
    "client = TESTClient(host_url=host_url)\n",
    "# The following command will promt you to type username (email) and password\n",
    "client.login()\n",
    "# Alternatively you can add credential information in the arguments\n",
    "#client.login(username=\"your@email\", password=\"ZZZ\")"
   ]
  },
  {
   "cell_type": "markdown",
   "metadata": {},
   "source": [
    "## Laboratories\n",
    "\n",
    "Laboratories are used to separate data access into groups of users. When you add an experiment into a lab it will only be seen by users that have access to that Lab. \n",
    "\n",
    "At the next cell a lab is selected. The remaining actions of this notebook will be done inside that lab."
   ]
  },
  {
   "cell_type": "code",
   "execution_count": 3,
   "metadata": {},
   "outputs": [
    {
     "name": "stdout",
     "output_type": "stream",
     "text": [
      "Selected Lab: Data Science Team\n"
     ]
    }
   ],
   "source": [
    "## Select a Laboratory\n",
    "client.select_laboratory(lab_name='Data Science Team')"
   ]
  },
  {
   "cell_type": "markdown",
   "metadata": {},
   "source": [
    "## Experiments\n",
    "\n",
    "Experiments represents all the studies inside a laboratory. Each experiment can contain several Assays. The **get_experiments** function returns a list of dictionaries that contain experiments information."
   ]
  },
  {
   "cell_type": "code",
   "execution_count": 4,
   "metadata": {},
   "outputs": [
    {
     "name": "stdout",
     "output_type": "stream",
     "text": [
      "{'id': '37', 'name': 'TD Experiment'}\n",
      "{'id': '38', 'name': 'TD Glucose Production Experiment'}\n",
      "{'id': '40', 'name': 'API Experiment'}\n",
      "{'id': '46', 'name': 'New Experiment'}\n",
      "{'id': '47', 'name': 'New Experiment 2'}\n",
      "{'id': '169', 'name': 'Isoprenol Production'}\n"
     ]
    }
   ],
   "source": [
    "## Get My Experiments from the selected Laboratory.\n",
    "experiments = client.get_experiments()\n",
    "# Print some of them\n",
    "for exp in experiments: print(exp)"
   ]
  },
  {
   "cell_type": "code",
   "execution_count": 5,
   "metadata": {},
   "outputs": [
    {
     "name": "stdout",
     "output_type": "stream",
     "text": [
      "{'id': '231', 'name': 'Jupyter Experiment'}\n"
     ]
    }
   ],
   "source": [
    "## Create a new Experiment in the selected Laboratory.\n",
    "new_experiment = client.create_experiment(experiment_name=\"Jupyter Experiment\")\n",
    "print(new_experiment)"
   ]
  },
  {
   "cell_type": "markdown",
   "metadata": {},
   "source": [
    "## Assays\n",
    "\n",
    "The assay object allows you to group data obtained from the same *protocol*.\n",
    "\n",
    "Likewise other getters, the get_assays output can be easily parsed into a pandas dataframe. Here we show you how:"
   ]
  },
  {
   "cell_type": "code",
   "execution_count": 6,
   "metadata": {},
   "outputs": [
    {
     "data": {
      "text/html": [
       "<div>\n",
       "<style scoped>\n",
       "    .dataframe tbody tr th:only-of-type {\n",
       "        vertical-align: middle;\n",
       "    }\n",
       "\n",
       "    .dataframe tbody tr th {\n",
       "        vertical-align: top;\n",
       "    }\n",
       "\n",
       "    .dataframe thead th {\n",
       "        text-align: right;\n",
       "    }\n",
       "</style>\n",
       "<table border=\"1\" class=\"dataframe\">\n",
       "  <thead>\n",
       "    <tr style=\"text-align: right;\">\n",
       "      <th></th>\n",
       "      <th>id</th>\n",
       "      <th>name</th>\n",
       "      <th>experiment</th>\n",
       "    </tr>\n",
       "  </thead>\n",
       "  <tbody>\n",
       "    <tr>\n",
       "      <th>0</th>\n",
       "      <td>6</td>\n",
       "      <td>TD Assay 2</td>\n",
       "      <td>{'id': '37', 'name': 'TD Experiment'}</td>\n",
       "    </tr>\n",
       "    <tr>\n",
       "      <th>1</th>\n",
       "      <td>7</td>\n",
       "      <td>TD Glucose Production Assay</td>\n",
       "      <td>{'id': '38', 'name': 'TD Glucose Production Ex...</td>\n",
       "    </tr>\n",
       "    <tr>\n",
       "      <th>2</th>\n",
       "      <td>8</td>\n",
       "      <td>TD Glucose Production Assay 2</td>\n",
       "      <td>{'id': '38', 'name': 'TD Glucose Production Ex...</td>\n",
       "    </tr>\n",
       "    <tr>\n",
       "      <th>3</th>\n",
       "      <td>101</td>\n",
       "      <td>Example Assay</td>\n",
       "      <td>{'id': '40', 'name': 'API Experiment'}</td>\n",
       "    </tr>\n",
       "    <tr>\n",
       "      <th>4</th>\n",
       "      <td>111</td>\n",
       "      <td>new assay</td>\n",
       "      <td>{'id': '46', 'name': 'New Experiment'}</td>\n",
       "    </tr>\n",
       "    <tr>\n",
       "      <th>5</th>\n",
       "      <td>112</td>\n",
       "      <td>New Assay</td>\n",
       "      <td>{'id': '46', 'name': 'New Experiment'}</td>\n",
       "    </tr>\n",
       "    <tr>\n",
       "      <th>6</th>\n",
       "      <td>113</td>\n",
       "      <td>API Assay</td>\n",
       "      <td>{'id': '40', 'name': 'API Experiment'}</td>\n",
       "    </tr>\n",
       "    <tr>\n",
       "      <th>7</th>\n",
       "      <td>128</td>\n",
       "      <td>Jupyter Assay</td>\n",
       "      <td>{'id': '37', 'name': 'TD Experiment'}</td>\n",
       "    </tr>\n",
       "    <tr>\n",
       "      <th>8</th>\n",
       "      <td>129</td>\n",
       "      <td>Jupyter Assay</td>\n",
       "      <td>{'id': '37', 'name': 'TD Experiment'}</td>\n",
       "    </tr>\n",
       "    <tr>\n",
       "      <th>9</th>\n",
       "      <td>132</td>\n",
       "      <td>Jupyter Assay</td>\n",
       "      <td>{'id': '37', 'name': 'TD Experiment'}</td>\n",
       "    </tr>\n",
       "    <tr>\n",
       "      <th>10</th>\n",
       "      <td>133</td>\n",
       "      <td>Jupyter Assay</td>\n",
       "      <td>{'id': '37', 'name': 'TD Experiment'}</td>\n",
       "    </tr>\n",
       "    <tr>\n",
       "      <th>11</th>\n",
       "      <td>171</td>\n",
       "      <td>Isoprenol Production Assay 1</td>\n",
       "      <td>{'id': '169', 'name': 'Isoprenol Production'}</td>\n",
       "    </tr>\n",
       "    <tr>\n",
       "      <th>12</th>\n",
       "      <td>172</td>\n",
       "      <td>Isoprenol Production Assay 1</td>\n",
       "      <td>{'id': '169', 'name': 'Isoprenol Production'}</td>\n",
       "    </tr>\n",
       "    <tr>\n",
       "      <th>13</th>\n",
       "      <td>174</td>\n",
       "      <td>Isoprenol Production Strains</td>\n",
       "      <td>{'id': '169', 'name': 'Isoprenol Production'}</td>\n",
       "    </tr>\n",
       "  </tbody>\n",
       "</table>\n",
       "</div>"
      ],
      "text/plain": [
       "     id                           name  \\\n",
       "0     6                     TD Assay 2   \n",
       "1     7    TD Glucose Production Assay   \n",
       "2     8  TD Glucose Production Assay 2   \n",
       "3   101                  Example Assay   \n",
       "4   111                      new assay   \n",
       "5   112                      New Assay   \n",
       "6   113                      API Assay   \n",
       "7   128                  Jupyter Assay   \n",
       "8   129                  Jupyter Assay   \n",
       "9   132                  Jupyter Assay   \n",
       "10  133                  Jupyter Assay   \n",
       "11  171   Isoprenol Production Assay 1   \n",
       "12  172   Isoprenol Production Assay 1   \n",
       "13  174   Isoprenol Production Strains   \n",
       "\n",
       "                                           experiment  \n",
       "0               {'id': '37', 'name': 'TD Experiment'}  \n",
       "1   {'id': '38', 'name': 'TD Glucose Production Ex...  \n",
       "2   {'id': '38', 'name': 'TD Glucose Production Ex...  \n",
       "3              {'id': '40', 'name': 'API Experiment'}  \n",
       "4              {'id': '46', 'name': 'New Experiment'}  \n",
       "5              {'id': '46', 'name': 'New Experiment'}  \n",
       "6              {'id': '40', 'name': 'API Experiment'}  \n",
       "7               {'id': '37', 'name': 'TD Experiment'}  \n",
       "8               {'id': '37', 'name': 'TD Experiment'}  \n",
       "9               {'id': '37', 'name': 'TD Experiment'}  \n",
       "10              {'id': '37', 'name': 'TD Experiment'}  \n",
       "11      {'id': '169', 'name': 'Isoprenol Production'}  \n",
       "12      {'id': '169', 'name': 'Isoprenol Production'}  \n",
       "13      {'id': '169', 'name': 'Isoprenol Production'}  "
      ]
     },
     "metadata": {},
     "output_type": "display_data"
    }
   ],
   "source": [
    "## Get All Assays From all experiments in the selected Laboratory\n",
    "assays_dataframe = pd.DataFrame(client.get_assays())\n",
    "# Or, alternatevily, if you want to use id as index in the dataframe\n",
    "#assays_dataframe = pd.DataFrame.from_records(client.get_assays(), index='id')\n",
    "display(assays_dataframe)"
   ]
  },
  {
   "cell_type": "markdown",
   "metadata": {},
   "source": [
    "You can also create assays using the client"
   ]
  },
  {
   "cell_type": "code",
   "execution_count": 7,
   "metadata": {},
   "outputs": [
    {
     "name": "stdout",
     "output_type": "stream",
     "text": [
      "{'id': '220', 'name': 'Jupyter Assay', 'experiment': {'id': '231', 'name': 'Jupyter Experiment'}}\n"
     ]
    }
   ],
   "source": [
    "## Create a new Assay within a new experiment\n",
    "new_assay = client.create_assay(experiment_id=new_experiment['id'], assay_name='Jupyter Assay')\n",
    "print(new_assay)"
   ]
  },
  {
   "cell_type": "markdown",
   "metadata": {},
   "source": [
    "And you can list all assays from an experiment"
   ]
  },
  {
   "cell_type": "code",
   "execution_count": 8,
   "metadata": {},
   "outputs": [
    {
     "data": {
      "text/html": [
       "<div>\n",
       "<style scoped>\n",
       "    .dataframe tbody tr th:only-of-type {\n",
       "        vertical-align: middle;\n",
       "    }\n",
       "\n",
       "    .dataframe tbody tr th {\n",
       "        vertical-align: top;\n",
       "    }\n",
       "\n",
       "    .dataframe thead th {\n",
       "        text-align: right;\n",
       "    }\n",
       "</style>\n",
       "<table border=\"1\" class=\"dataframe\">\n",
       "  <thead>\n",
       "    <tr style=\"text-align: right;\">\n",
       "      <th></th>\n",
       "      <th>id</th>\n",
       "      <th>name</th>\n",
       "      <th>experiment</th>\n",
       "    </tr>\n",
       "  </thead>\n",
       "  <tbody>\n",
       "    <tr>\n",
       "      <th>0</th>\n",
       "      <td>220</td>\n",
       "      <td>Jupyter Assay</td>\n",
       "      <td>{'id': '231', 'name': 'Jupyter Experiment'}</td>\n",
       "    </tr>\n",
       "  </tbody>\n",
       "</table>\n",
       "</div>"
      ],
      "text/plain": [
       "    id           name                                   experiment\n",
       "0  220  Jupyter Assay  {'id': '231', 'name': 'Jupyter Experiment'}"
      ]
     },
     "metadata": {},
     "output_type": "display_data"
    }
   ],
   "source": [
    "## Get All Assays From Experiment with ID=\"experiment_id\"\n",
    "assays = pd.DataFrame(client.get_assays(experiment_id=new_experiment['id'])) \n",
    "display(assays)"
   ]
  },
  {
   "cell_type": "markdown",
   "metadata": {},
   "source": [
    "## Files\n",
    "\n",
    "The TEST module can also store files. Files are shared between users of the same lab and can be associated to specific assays."
   ]
  },
  {
   "cell_type": "code",
   "execution_count": 9,
   "metadata": {},
   "outputs": [
    {
     "data": {
      "text/html": [
       "<div>\n",
       "<style scoped>\n",
       "    .dataframe tbody tr th:only-of-type {\n",
       "        vertical-align: middle;\n",
       "    }\n",
       "\n",
       "    .dataframe tbody tr th {\n",
       "        vertical-align: top;\n",
       "    }\n",
       "\n",
       "    .dataframe thead th {\n",
       "        text-align: right;\n",
       "    }\n",
       "</style>\n",
       "<table border=\"1\" class=\"dataframe\">\n",
       "  <thead>\n",
       "    <tr style=\"text-align: right;\">\n",
       "      <th></th>\n",
       "      <th>id</th>\n",
       "      <th>name</th>\n",
       "      <th>assay</th>\n",
       "    </tr>\n",
       "  </thead>\n",
       "  <tbody>\n",
       "    <tr>\n",
       "      <th>0</th>\n",
       "      <td>1</td>\n",
       "      <td>glucose_production_rate.csv</td>\n",
       "      <td>None</td>\n",
       "    </tr>\n",
       "    <tr>\n",
       "      <th>1</th>\n",
       "      <td>2</td>\n",
       "      <td>glucose_production_rate.csv</td>\n",
       "      <td>None</td>\n",
       "    </tr>\n",
       "    <tr>\n",
       "      <th>2</th>\n",
       "      <td>3</td>\n",
       "      <td>glucose_production_rate.csv</td>\n",
       "      <td>None</td>\n",
       "    </tr>\n",
       "    <tr>\n",
       "      <th>3</th>\n",
       "      <td>4</td>\n",
       "      <td>glucose_production_rate.csv</td>\n",
       "      <td>None</td>\n",
       "    </tr>\n",
       "    <tr>\n",
       "      <th>4</th>\n",
       "      <td>5</td>\n",
       "      <td>glucose_production_rate.csv</td>\n",
       "      <td>None</td>\n",
       "    </tr>\n",
       "  </tbody>\n",
       "</table>\n",
       "</div>"
      ],
      "text/plain": [
       "  id                         name assay\n",
       "0  1  glucose_production_rate.csv  None\n",
       "1  2  glucose_production_rate.csv  None\n",
       "2  3  glucose_production_rate.csv  None\n",
       "3  4  glucose_production_rate.csv  None\n",
       "4  5  glucose_production_rate.csv  None"
      ]
     },
     "execution_count": 9,
     "metadata": {},
     "output_type": "execute_result"
    }
   ],
   "source": [
    "## Get All Files info from the selected Laboratory\n",
    "pd.DataFrame(client.get_files_info()).head()\n",
    "## You can fetch info from a specific assay using the assay_id argument\n",
    "#display(pd.DataFrame(client.get_files(assay_id=new_assay['id'])))"
   ]
  },
  {
   "cell_type": "code",
   "execution_count": 10,
   "metadata": {},
   "outputs": [
    {
     "name": "stdout",
     "output_type": "stream",
     "text": [
      "{'id': '152', 'name': 'test_module_example.csv', 'assay': {'id': '220', 'name': 'Jupyter Assay'}}\n"
     ]
    }
   ],
   "source": [
    "## Upload a File with an Assay.\n",
    "filepath = str(get_project_root() / \"teselagen/examples/test_module_example.csv\")\n",
    "new_file_info = client.upload_file(filepath=filepath, assay_id=new_assay['id'])\n",
    "## Upload a File without an Assay.\n",
    "#new_file_info = client.upload_file(filepath=\"./test_module_example.csv\")\n",
    "print(new_file_info)"
   ]
  },
  {
   "cell_type": "code",
   "execution_count": 11,
   "metadata": {},
   "outputs": [
    {
     "data": {
      "text/html": [
       "<div>\n",
       "<style scoped>\n",
       "    .dataframe tbody tr th:only-of-type {\n",
       "        vertical-align: middle;\n",
       "    }\n",
       "\n",
       "    .dataframe tbody tr th {\n",
       "        vertical-align: top;\n",
       "    }\n",
       "\n",
       "    .dataframe thead th {\n",
       "        text-align: right;\n",
       "    }\n",
       "</style>\n",
       "<table border=\"1\" class=\"dataframe\">\n",
       "  <thead>\n",
       "    <tr style=\"text-align: right;\">\n",
       "      <th></th>\n",
       "      <th>Line</th>\n",
       "      <th>Teselagen Example Descriptor 1</th>\n",
       "      <th>Teselagen Example Descriptor 2</th>\n",
       "      <th>Teselagen Example Target</th>\n",
       "      <th>Teselagen Example Target Metric</th>\n",
       "    </tr>\n",
       "  </thead>\n",
       "  <tbody>\n",
       "    <tr>\n",
       "      <th>0</th>\n",
       "      <td>1</td>\n",
       "      <td>A0</td>\n",
       "      <td>B1</td>\n",
       "      <td>1</td>\n",
       "      <td>ug/mL</td>\n",
       "    </tr>\n",
       "    <tr>\n",
       "      <th>1</th>\n",
       "      <td>2</td>\n",
       "      <td>A0</td>\n",
       "      <td>B2</td>\n",
       "      <td>2</td>\n",
       "      <td>ug/mL</td>\n",
       "    </tr>\n",
       "    <tr>\n",
       "      <th>2</th>\n",
       "      <td>3</td>\n",
       "      <td>A0</td>\n",
       "      <td>B3</td>\n",
       "      <td>3</td>\n",
       "      <td>ug/mL</td>\n",
       "    </tr>\n",
       "    <tr>\n",
       "      <th>3</th>\n",
       "      <td>4</td>\n",
       "      <td>A0</td>\n",
       "      <td>B5</td>\n",
       "      <td>5</td>\n",
       "      <td>ug/mL</td>\n",
       "    </tr>\n",
       "    <tr>\n",
       "      <th>4</th>\n",
       "      <td>5</td>\n",
       "      <td>A0</td>\n",
       "      <td>B6</td>\n",
       "      <td>6</td>\n",
       "      <td>ug/mL</td>\n",
       "    </tr>\n",
       "  </tbody>\n",
       "</table>\n",
       "</div>"
      ],
      "text/plain": [
       "   Line Teselagen Example Descriptor 1 Teselagen Example Descriptor 2  \\\n",
       "0     1                             A0                             B1   \n",
       "1     2                             A0                             B2   \n",
       "2     3                             A0                             B3   \n",
       "3     4                             A0                             B5   \n",
       "4     5                             A0                             B6   \n",
       "\n",
       "   Teselagen Example Target Teselagen Example Target Metric  \n",
       "0                         1                           ug/mL  \n",
       "1                         2                           ug/mL  \n",
       "2                         3                           ug/mL  \n",
       "3                         5                           ug/mL  \n",
       "4                         6                           ug/mL  "
      ]
     },
     "execution_count": 11,
     "metadata": {},
     "output_type": "execute_result"
    }
   ],
   "source": [
    "## Gets File data contens\n",
    "binarydata = client.download_file(file_id=new_file_info['id'])\n",
    "df_file = pd.read_csv(binarydata, sep=\",\")\n",
    "df_file.head()"
   ]
  },
  {
   "cell_type": "markdown",
   "metadata": {},
   "source": [
    "## Delete elements\n",
    "\n",
    "You can delete an experiment to remove all its assays. Files work differently and you need to explicitly delete them. In the next cells we will download each object specifically:"
   ]
  },
  {
   "cell_type": "code",
   "execution_count": 12,
   "metadata": {},
   "outputs": [
    {
     "name": "stdout",
     "output_type": "stream",
     "text": [
      "Deletion successful.\n"
     ]
    }
   ],
   "source": [
    "## Deletes a File\n",
    "client.delete_file(file_id=new_file_info['id'])"
   ]
  },
  {
   "cell_type": "code",
   "execution_count": 13,
   "metadata": {},
   "outputs": [
    {
     "name": "stdout",
     "output_type": "stream",
     "text": [
      "Deletion successful.\n"
     ]
    }
   ],
   "source": [
    "## Delete an Assay\n",
    "client.delete_assay(assay_id=new_assay['id'])"
   ]
  },
  {
   "cell_type": "code",
   "execution_count": 14,
   "metadata": {},
   "outputs": [
    {
     "name": "stdout",
     "output_type": "stream",
     "text": [
      "Deletion successful.\n"
     ]
    }
   ],
   "source": [
    "## Delete an Experiment from the selected laboratory.\n",
    "client.delete_experiment(experiment_id=new_experiment['id'])"
   ]
  },
  {
   "cell_type": "code",
   "execution_count": 15,
   "metadata": {},
   "outputs": [],
   "source": [
    "# Delete all experiments with the name Jupyter Experiment \n",
    "# (if any remains due to uncompleted executions of the notebook)\n",
    "# experiments = client.get_experiments()\n",
    "# for exp in experiments:\n",
    "#     if exp['name'] == \"Jupyter Experiment\":\n",
    "#         client.delete_experiment(experiment_id=exp['id'])"
   ]
  }
 ],
 "metadata": {
  "kernelspec": {
   "display_name": "Python 3",
   "language": "python",
   "name": "python3"
  },
  "language_info": {
   "codemirror_mode": {
    "name": "ipython",
    "version": 3
   },
   "file_extension": ".py",
   "mimetype": "text/x-python",
   "name": "python",
   "nbconvert_exporter": "python",
   "pygments_lexer": "ipython3",
   "version": "3.6.9"
  }
 },
 "nbformat": 4,
 "nbformat_minor": 4
}
