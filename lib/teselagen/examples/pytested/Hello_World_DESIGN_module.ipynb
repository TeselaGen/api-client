{
 "cells": [
  {
   "cell_type": "markdown",
   "id": "north-universe",
   "metadata": {},
   "source": [
    "<div align=left style=\"width: 200; height: 80px; overflow: hidden\">\n",
    "    <img src=http://static1.squarespace.com/static/571446ff60b5e92c3a2b4249/57d8a40b9de4bb459f731cf3/58cb2f229de4bb4a049d38c2/1505340359463/teselaGenlogo.jpg align=right width=200>\n",
    "</div>"
   ]
  },
  {
   "cell_type": "markdown",
   "id": "major-armor",
   "metadata": {},
   "source": [
    "# Hello World! DESIGN Module\n",
    "\n",
    "This notebook shows how to use the TG's Python API Client to interact with the DESIGN module."
   ]
  },
  {
   "cell_type": "markdown",
   "id": "colored-booth",
   "metadata": {},
   "source": [
    "We start by making some imports"
   ]
  },
  {
   "cell_type": "code",
   "execution_count": 1,
   "id": "working-major",
   "metadata": {},
   "outputs": [
    {
     "name": "stdout",
     "output_type": "stream",
     "text": [
      "python version     : 3.6.9\n",
      "pandas version     : 1.1.5\n"
     ]
    }
   ],
   "source": [
    "import platform\n",
    "from pathlib import Path\n",
    "import pandas as pd\n",
    "\n",
    "from teselagen.api import TeselaGenClient\n",
    "\n",
    "print(f\"python version     : {platform.python_version()}\")\n",
    "print(f\"pandas version     : {pd.__version__}\")"
   ]
  },
  {
   "cell_type": "markdown",
   "id": "marked-consequence",
   "metadata": {},
   "source": [
    "And then login into the platform. You should get \"*Connection Accepted*\" printed below. "
   ]
  },
  {
   "cell_type": "code",
   "execution_count": 2,
   "id": "peripheral-brake",
   "metadata": {},
   "outputs": [
    {
     "name": "stdout",
     "output_type": "stream",
     "text": [
      "Connection Accepted\n",
      "Selected Lab: Test Lab\n"
     ]
    }
   ],
   "source": [
    "# Connect to your teselagen instance by passing it as the 'host_url' argument of TeselaGenClient(host_url=host_url)\n",
    "# client = TeselaGenClient(host_url=\"https://your-instance-name.teselagen.com\")\n",
    "client = TeselaGenClient()\n",
    "client.login()\n",
    "client.select_laboratory(lab_name=\"Test Lab\")"
   ]
  },
  {
   "cell_type": "code",
   "execution_count": 3,
   "id": "packed-cause",
   "metadata": {},
   "outputs": [
    {
     "name": "stdout",
     "output_type": "stream",
     "text": [
      "https://platform.teselagen.com\n"
     ]
    }
   ],
   "source": [
    "print(client.host_url)"
   ]
  },
  {
   "cell_type": "markdown",
   "id": "graphic-search",
   "metadata": {},
   "source": [
    "Now we will import the DNA sequences named GFP_UV"
   ]
  },
  {
   "cell_type": "code",
   "execution_count": 7,
   "id": "acute-welding",
   "metadata": {},
   "outputs": [],
   "source": [
    "sequence = client.design.get_dna_sequences(name='GFP_UV')"
   ]
  },
  {
   "cell_type": "markdown",
   "id": "impossible-coverage",
   "metadata": {},
   "source": [
    "The `sequence` variable contains is a list of all sequences named `'GFP_UV'`. We will just get the first one and check the features contained"
   ]
  },
  {
   "cell_type": "code",
   "execution_count": 10,
   "id": "narrative-liver",
   "metadata": {},
   "outputs": [
    {
     "name": "stdout",
     "output_type": "stream",
     "text": [
      "pSC101**\n",
      "araC\n",
      "GFPuv\n",
      "RBS\n",
      "CmR\n",
      "signal_peptide\n",
      "XhoI_silent_mutation\n",
      "pBAD promoter\n",
      "Operator I2 and I1\n",
      "operator O1\n",
      "T0\n",
      "CAP site\n",
      "araC promoter\n",
      "dbl term\n",
      "BamHI_silent_mutation\n",
      "operator O2\n"
     ]
    }
   ],
   "source": [
    "features = sequence[0]['features']\n",
    "for feat in features:\n",
    "    print(feat['name'])"
   ]
  },
  {
   "cell_type": "code",
   "execution_count": 8,
   "id": "bound-welding",
   "metadata": {},
   "outputs": [
    {
     "data": {
      "text/plain": [
       "[{'type': 'DNA',\n",
       "  'isProtein': False,\n",
       "  'isOligo': False,\n",
       "  'proteinSequence': '',\n",
       "  'sequence': 'GACGTCTTATGACAACTTGACGGCTACATCATTCACTTTTTCTTCACAACCGGCACGGAACTCGCTCGGGCTGGCCCCGGTGCATTTTTTAAATACCCGCGAGAAATAGAGTTGATCGTCAAAACCAACATTGCGACCGACGGTGGCGATAGGCATCCGGGTGGTGCTCAAAAGCAGCTTCGCCTGGCTGATACGTTGGTCCTCGCGCCAGCTTAAGACGCTAATCCCTAACTGCTGGCGGAAAAGATGTGACAGACGCGACGGCGACAAGCAAACATGCTGTGCGACGCTGGCGATATCAAAATTGCTGTCTGCCAGGTGATCGCTGATGTACTGACAAGCCTCGCGTACCCGATTATCCATCGGTGGATGGAGCGACTCGTTAATCGCTTCCATGCGCCGCAGTAACAATTGCTCAAGCAGATTTATCGCCAGCAGCTCCGAATAGCGCCCTTCCCCTTGCCCGGCGTTAATGATTTGCCCAAACAGGTCGCTGAAATGCGGCTGGTGCGCTTCATCCGGGCGAAAGAACCCCGTATTGGCAAATATTGACGGCCAGTTAAGCCATTCATGCCAGTAGGCGCGCGGACGAAAGTAAACCCACTGGTGATACCATTCGCGAGCCTCCGGATGACGACCGTAGTGATGAATCTCTCCTGGCGGGAACAGCAAAATATCACCCGGTCGGCAAACAAATTCTCGTCCCTGATTTTTCACCACCCCCTGACCGCGAATGGTGAGATTGAGAATATAACCTTTCATTCCCAGCGGTCGGTCGATAAAAAAATCGAGATAACCGTTGGCCTCAATCGGCGTTAAACCCGCCACCAGATGGGCATTAAACGAGTATCCCGGCAGCAGGGGATCATTTTGCGCTTCAGCCATACTTTTCATACTCCCGCCATTCAGAGAAGAAACCAATTGTCCATATTGCATCAGACATTGCCGTCACTGCGTCTTTTACTGGCTCTTCTCGCTAACCAAACCGGTAACCCCGCTTATTAAAAGCATTCTGTAACAAAGCGGGACCAAAGCCATGACAAAAACGCGTAACAAAAGTGTCTATAATCACGGCAGAAAAGTCCACATTGATTATTTGCACGGCGTCACACTTTGCTATGCCATAGCATTTTTATCCATAAGATTAGCGGATTCTACCTGACGCTTTTTATCGCAACTCTCTACTGTTTCTCCATACCCGTTTTTTTGGGAATTTTTAAGAAGGAGATATACATATGAGTAAAGGAGAAGAACTTTTCACTGGAGTTGTCCCAATTCTTGTTGAATTAGATGGTGATGTTAATGGGCACAAATTTTCTGTCAGTGGAGAGGGTGAAGGTGATGCAACATACGGAAAACTTACCCTTAAATTTATTTGCACTACTGGAAAACTACCTGTTCCATGGCCAACACTTGTCACTACTTTCTCTTATGGTGTTCAATGCTTTTCCCGTTATCCGGATCATATGAAACGGCATGACTTTTTCAAGAGTGCCATGCCCGAAGGTTATGTACAGGAACGCACTATATCTTTCAAAGATGACGGGAACTACAAGACGCGTGCTGAAGTCAAGTTTGAAGGTGATACCCTTGTTAATCGTATCGAGTTAAAAGGTATTGATTTTAAAGAAGATGGAAACATTCTCGGACACAAACTCGAATACAACTATAACTCACACAATGTATACATCACGGCAGACAAACAAAAGAATGGAATCAAAGCTAACTTCAAAATTCGCCACAACATTGAAGATGGATCTGTTCAACTAGCAGACCATTATCAACAAAATACTCCAATTGGCGATGGCCCTGTCCTTTTACCAGACAACCATTACCTGTCGACACAATCTGCCCTTTCGAAAGATCCCAACGAAAAGCGTGACCACATGGTCCTTCTTGAGTTTGTAACTGCTGCTGGGATTACACATGGCATGGATGAGCTCGGCGGCGGCGGCAGCAAGGTCTACGGCAAGGAACAGTTTTTGCGGATGCGCCAGAGCATGTTCCCCGATCGCTAAATCGAGTAAGGATCTCCAGGCATCAAATAAAACGAAAGGCTCAGTCGAAAGACTGGGCCTTTCGTTTTATCTGTTGTTTGTCGGTGAACGCTCTCTACTAGAGTCACACTGGCTCACCTTCGGGTGGGCCTTTCTGCGTTTATACCTAGGGTACGGGTTTTGCTGCCCGCAAACGGGCTGTTCTGGTGTTGCTAGTTTGTTATCAGAATCGCAGATCCGGCTTCAGCCGGTTTGCCGGCTGAAAGCGCTATTTCTTCCAGAATTGCCATGATTTTTTCCCCACGGGAGGCGTCACTGGCTCCCGTGTTGTCGGCAGCTTTGATTCGATAAGCAGCATCGCCTGTTTCAGGCTGTCTATGTGTGACTGTTGAGCTGTAACAAGTTGTCTCAGGTGTTCAATTTCATGTTCTAGTTGCTTTGTTTTACTGGTTTCACCTGTTCTATTAGGTGTTACATGCTGTTCATCTGTTACATTGTCGATCTGTTCATGGTGAACAGCTTTGAATGCACCAAAAACTCGTAAAAGCTCTGATGTATCTATCTTTTTTACACCGTTTTCATCTGTGCATATGGACAGTTTTCCCTTTGATATGTAACGGTGAACAGTTGTTCTACTTTTGTTTGTTAGTCTTGATGCTTCACTGATAGATACAAGAGCCATAAGAACCTCAGATCCTTCCGTATTTAGCCAGTATGTTCTCTAGTGTGGTTCGTTGTTTTTGCGTGAGCCATGAGAACGAACCATTGAGATCATACTTACTTTGCATGTCACTCAAAAATTTTGCCTCAAAACTGGTGAGCTGAATTTTTGCAGTTAAAGCATCGTGTAGTGTTTTTCTTAGTCCGTTATGTAGGTAGGAATCTGATGTAATGGTTGTTGGTATTTTGTCACCATTCATTTTTATCTGGTTGTTCTCAAGTTCGGTTACGAGATCCATTTGTCTATCTAGTTCAACTTGGAAAATCAACGTATCAGTCGGGCGGCCTCGCTTATCAACCACCAATTTCATATTGCTGTAAGTGTTTAAATCTTTACTTATTGGTTTCAAAACCCATTGGTTAAGCCTTTTAAACTCATGGTAGTTATTTTCAAGCATTAACATGAACTTAAATTCATCAAGGCTAATCTCTATATTTGCCTTGTGAGTTTTCTTTTGTGTTAGTTCTTTTAATAACCACTCATAAATCCTCATAGAGTATTTGTTTTCAAAAGACTTAACATGTTCCAGATTATATTTTATGAATTTTTTTAACTGGAAAAGATAAGGCAATATCTCTTCACTAAAAACTAATTCTAATTTTTCGCTTGAGAACTTGGCATAGTTTGTCCACTGGAAAATCTCAAAGCCTTTAACCAAAGGATTCCTGATTTCCACAGTTCTCGTCATCAGCTCTCTGGTTGCTTTAGCTAATACACCATAAGCATTTTCCCTACTGATGTTCATCATCTGAGCGTATTGGTTATAAGTGAACGATACCGTCCGTTCTTTCCTTGTAGGGTTTTCAATCGTGGGGTTGAGTAGTGCCACACAGCATAAAATTAGCTTGGTTTCATGCTCCGTTAAGTCATAGCGACTAATCGCTAGTTCATTTGCTTTGAAAACAACTAATTCAGACATACATCTCAATTGGTCTAGGTGATTTTAATCACTATACCAATTGAGATGGGCTAGTCAATGATAATTACTAGTCCTTTTCCCGGGTGATCTGGGTATCTGTAAATTCTGCTAGACCTTTGCTGGAAAACTTGTAAATTCTGCTAGACCCTCTGTAAATTCCGCTAGACCTTTGTGTGTTTTTTTTGTTTATATTCAAGTGGTTATAATTTATAGAATAAAGAAAGAATAAAAAAAGATAAAAAGAATAGATCCCAGCCCTGTGTATAACTCACTACTTTAGTCAGTTCCGCAGTATTACAAAAGGATGTCGCAAACGCTGTTTGCTCCTCTACAAAACAGACCTTAAAACCCTAAAGGCTTAAGTAGCACCCTCGCAAGCTCGGGCAAATCGCTGAATATTCCTTTTGTCTCCGACCATCAGGCACCTGAGTCGCTGTCTTTTTCGTGACATTCAGTTCGCTGCGCTCACGGCTCTGGCAGTGAATGGGGGTAAATGGCACTACAGGCGCCTTTTATGGATTCATGCAAGGAAACTACCCATAATACAAGAAAAGCCCGTCACGGGCTTCTCAGGGCGTTTTATGGCGGGTCTGCTATGTGGTGCTATCTGACTTTTTGCTGTTCAGCAGTTCCTGCCCTCTGATTTTCCAGTCTGACCACTTCGGATTATCCCGTGACAGGTCATTCAGACTGGCTAATGCACCCAGTAAGGCAGCGGTATCATCAACAGGCTTACCCGTCTTACTGTCCCTAGTGCTTGGATTCTCACCAATAAAAAACGCCCGGCGGCAACCGAGCGTTCTGAACAAATCCAGATGGAGTTCTGAGGTCATTACTGGATCTATCAACAGGAGTCCAAGCGAGCTCGATATCAAATTACGCCCCGCCCTGCCACTCATCGCAGTACTGTTGTAATTCATTAAGCATTCTGCCGACATGGAAGCCATCACAAACGGCATGATGAACCTGAATCGCCAGCGGCATCAGCACCTTGTCGCCTTGCGTATAATATTTGCCCATGGTGAAAACGGGGGCGAAGAAGTTGTCCATATTGGCCACGTTTAAATCAAAACTGGTGAAACTCACCCAGGGATTGGCTGAGACGAAAAACATATTCTCAATAAACCCTTTAGGGAAATAGGCCAGGTTTTCACCGTAACACGCCACATCTTGCGAATATATGTGTAGAAACTGCCGGAAATCGTCGTGGTATTCACTCCAGAGCGATGAAAACGTTTCAGTTTGCTCATGGAAAACGGTGTAACAAGGGTGAACACTATCCCATATCACCAGCTCACCGTCTTTCATTGCCATACGAAATTCCGGATGAGCATTCATCAGGCGGGCAAGAATGTGAATAAAGGCCGGATAAAACTTGTGCTTATTTTTCTTTACGGTCTTTAAAAAGGCCGTAATATCCAGCTGAACGGTCTGGTTATAGGTACATTGAGCAACTGACTGAAATGCCTCAAAATGTTCTTTACGATGCCATTGGGATATATCAACGGTGGTATATCCAGTGATTTTTTTCTCCATTTTAGCTTCCTTAGCTCCTGAAAATCTCGATAACTCAAAAAATACGCCCGGTAGTGATCTTATTTCATTATGGTGAAAGTTGGAACCTCTTACGTGCCGATCAACGTCTCATTTTCGCCAGATATC',\n",
       "  'circular': True,\n",
       "  'name': 'GFP_UV',\n",
       "  'proteinSize': 0,\n",
       "  'size': 5299,\n",
       "  'primers': [],\n",
       "  'features': [{'notes': [],\n",
       "    'id': '3688071',\n",
       "    'start': 2163,\n",
       "    'end': 4391,\n",
       "    'type': 'rep_origin',\n",
       "    'name': 'pSC101**',\n",
       "    'strand': -1,\n",
       "    'locations': None,\n",
       "    '__typename': 'sequenceFeature',\n",
       "    'annotationTypePlural': 'features',\n",
       "    'forward': False,\n",
       "    'color': '#878787'},\n",
       "   {'notes': [],\n",
       "    'id': '3688072',\n",
       "    'start': 6,\n",
       "    'end': 884,\n",
       "    'type': 'CDS',\n",
       "    'name': 'araC',\n",
       "    'strand': -1,\n",
       "    'locations': None,\n",
       "    '__typename': 'sequenceFeature',\n",
       "    'annotationTypePlural': 'features',\n",
       "    'forward': False,\n",
       "    'color': '#EF6500'},\n",
       "   {'notes': [],\n",
       "    'id': '3688073',\n",
       "    'start': 1235,\n",
       "    'end': 2017,\n",
       "    'type': 'CDS',\n",
       "    'name': 'GFPuv',\n",
       "    'strand': 1,\n",
       "    'locations': None,\n",
       "    '__typename': 'sequenceFeature',\n",
       "    'annotationTypePlural': 'features',\n",
       "    'forward': True,\n",
       "    'color': '#EF6500'},\n",
       "   {'notes': [],\n",
       "    'id': '3688074',\n",
       "    'start': 1215,\n",
       "    'end': 1234,\n",
       "    'type': 'RBS',\n",
       "    'name': 'RBS',\n",
       "    'strand': 1,\n",
       "    'locations': None,\n",
       "    '__typename': 'sequenceFeature',\n",
       "    'annotationTypePlural': 'features',\n",
       "    'forward': True,\n",
       "    'color': '#BDFFCB'},\n",
       "   {'notes': [],\n",
       "    'id': '3688075',\n",
       "    'start': 4513,\n",
       "    'end': 5172,\n",
       "    'type': 'misc_marker',\n",
       "    'name': 'CmR',\n",
       "    'strand': -1,\n",
       "    'locations': None,\n",
       "    '__typename': 'sequenceFeature',\n",
       "    'annotationTypePlural': 'features',\n",
       "    'forward': False,\n",
       "    'color': '#8DCEB1'},\n",
       "   {'notes': [],\n",
       "    'id': '3688076',\n",
       "    'start': 1952,\n",
       "    'end': 2014,\n",
       "    'type': 'CDS',\n",
       "    'name': 'signal_peptide',\n",
       "    'strand': 1,\n",
       "    'locations': None,\n",
       "    '__typename': 'sequenceFeature',\n",
       "    'annotationTypePlural': 'features',\n",
       "    'forward': True,\n",
       "    'color': '#EF6500'},\n",
       "   {'notes': [],\n",
       "    'id': '3688077',\n",
       "    'start': 1660,\n",
       "    'end': 1660,\n",
       "    'type': 'misc_feature',\n",
       "    'name': 'XhoI_silent_mutation',\n",
       "    'strand': 1,\n",
       "    'locations': None,\n",
       "    '__typename': 'sequenceFeature',\n",
       "    'annotationTypePlural': 'features',\n",
       "    'forward': True,\n",
       "    'color': '#006FEF'},\n",
       "   {'notes': [],\n",
       "    'id': '3688078',\n",
       "    'start': 1160,\n",
       "    'end': 1187,\n",
       "    'type': 'promoter',\n",
       "    'name': 'pBAD promoter',\n",
       "    'strand': 1,\n",
       "    'locations': None,\n",
       "    '__typename': 'sequenceFeature',\n",
       "    'annotationTypePlural': 'features',\n",
       "    'forward': True,\n",
       "    'color': '#31B440'},\n",
       "   {'notes': [],\n",
       "    'id': '3688079',\n",
       "    'start': 1123,\n",
       "    'end': 1161,\n",
       "    'type': 'protein_bind',\n",
       "    'name': 'Operator I2 and I1',\n",
       "    'strand': 1,\n",
       "    'locations': None,\n",
       "    '__typename': 'sequenceFeature',\n",
       "    'annotationTypePlural': 'features',\n",
       "    'forward': True,\n",
       "    'color': '#2E2E2E'},\n",
       "   {'notes': [],\n",
       "    'id': '3688080',\n",
       "    'start': 1071,\n",
       "    'end': 1092,\n",
       "    'type': 'protein_bind',\n",
       "    'name': 'operator O1',\n",
       "    'strand': 1,\n",
       "    'locations': None,\n",
       "    '__typename': 'sequenceFeature',\n",
       "    'annotationTypePlural': 'features',\n",
       "    'forward': True,\n",
       "    'color': '#2E2E2E'},\n",
       "   {'notes': [],\n",
       "    'id': '3688081',\n",
       "    'start': 4392,\n",
       "    'end': 4497,\n",
       "    'type': 'terminator',\n",
       "    'name': 'T0',\n",
       "    'strand': 1,\n",
       "    'locations': None,\n",
       "    '__typename': 'sequenceFeature',\n",
       "    'annotationTypePlural': 'features',\n",
       "    'forward': True,\n",
       "    'color': '#F51600'},\n",
       "   {'notes': [],\n",
       "    'id': '3688082',\n",
       "    'start': 1114,\n",
       "    'end': 1127,\n",
       "    'type': 'misc_binding',\n",
       "    'name': 'CAP site',\n",
       "    'strand': 1,\n",
       "    'locations': None,\n",
       "    '__typename': 'sequenceFeature',\n",
       "    'annotationTypePlural': 'features',\n",
       "    'forward': True,\n",
       "    'color': '#006FEF'},\n",
       "   {'notes': [],\n",
       "    'id': '3688083',\n",
       "    'start': 1035,\n",
       "    'end': 1063,\n",
       "    'type': 'promoter',\n",
       "    'name': 'araC promoter',\n",
       "    'strand': -1,\n",
       "    'locations': None,\n",
       "    '__typename': 'sequenceFeature',\n",
       "    'annotationTypePlural': 'features',\n",
       "    'forward': False,\n",
       "    'color': '#31B440'},\n",
       "   {'notes': [],\n",
       "    'id': '3688084',\n",
       "    'start': 2033,\n",
       "    'end': 2161,\n",
       "    'type': 'terminator',\n",
       "    'name': 'dbl term',\n",
       "    'strand': 1,\n",
       "    'locations': None,\n",
       "    '__typename': 'sequenceFeature',\n",
       "    'annotationTypePlural': 'features',\n",
       "    'forward': True,\n",
       "    'color': '#F51600'},\n",
       "   {'notes': [],\n",
       "    'id': '3688085',\n",
       "    'start': 1759,\n",
       "    'end': 1759,\n",
       "    'type': 'misc_feature',\n",
       "    'name': 'BamHI_silent_mutation',\n",
       "    'strand': 1,\n",
       "    'locations': None,\n",
       "    '__typename': 'sequenceFeature',\n",
       "    'annotationTypePlural': 'features',\n",
       "    'forward': True,\n",
       "    'color': '#006FEF'},\n",
       "   {'notes': [],\n",
       "    'id': '3688086',\n",
       "    'start': 913,\n",
       "    'end': 930,\n",
       "    'type': 'protein_bind',\n",
       "    'name': 'operator O2',\n",
       "    'strand': 1,\n",
       "    'locations': None,\n",
       "    '__typename': 'sequenceFeature',\n",
       "    'annotationTypePlural': 'features',\n",
       "    'forward': True,\n",
       "    'color': '#2E2E2E'}],\n",
       "  'lineageAnnotations': [],\n",
       "  'assemblyPieces': [],\n",
       "  'warnings': [],\n",
       "  'parts': [{'id': '19115',\n",
       "    'name': 'pS8c-vector_backbone',\n",
       "    'start': 2015,\n",
       "    'end': 1237,\n",
       "    'strand': 1,\n",
       "    '__typename': 'part',\n",
       "    'annotationTypePlural': 'parts',\n",
       "    'forward': True,\n",
       "    'type': 'misc_feature',\n",
       "    'color': '#006FEF'},\n",
       "   {'id': '19116',\n",
       "    'name': 'GFPuv',\n",
       "    'start': 1241,\n",
       "    'end': 1951,\n",
       "    'strand': 1,\n",
       "    '__typename': 'part',\n",
       "    'annotationTypePlural': 'parts',\n",
       "    'forward': True,\n",
       "    'type': 'misc_feature',\n",
       "    'color': '#006FEF'}],\n",
       "  'cutsites': [],\n",
       "  'orfs': [],\n",
       "  'translations': [],\n",
       "  'guides': []}]"
      ]
     },
     "execution_count": 8,
     "metadata": {},
     "output_type": "execute_result"
    }
   ],
   "source": [
    "sequence"
   ]
  },
  {
   "cell_type": "code",
   "execution_count": null,
   "id": "nuclear-cliff",
   "metadata": {},
   "outputs": [],
   "source": []
  }
 ],
 "metadata": {
  "kernelspec": {
   "display_name": "Python 3",
   "language": "python",
   "name": "python3"
  },
  "language_info": {
   "codemirror_mode": {
    "name": "ipython",
    "version": 3
   },
   "file_extension": ".py",
   "mimetype": "text/x-python",
   "name": "python",
   "nbconvert_exporter": "python",
   "pygments_lexer": "ipython3",
   "version": "3.6.9"
  }
 },
 "nbformat": 4,
 "nbformat_minor": 5
}
