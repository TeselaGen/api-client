{
 "cells": [
  {
   "cell_type": "markdown",
   "id": "north-universe",
   "metadata": {},
   "source": [
    "<div align=left style=\"width: 200; height: 80px; overflow: hidden\">\n",
    "    <img src=http://static1.squarespace.com/static/571446ff60b5e92c3a2b4249/57d8a40b9de4bb459f731cf3/58cb2f229de4bb4a049d38c2/1505340359463/teselaGenlogo.jpg align=right width=200>\n",
    "</div>"
   ]
  },
  {
   "cell_type": "markdown",
   "id": "major-armor",
   "metadata": {},
   "source": [
    "# Hello World! DESIGN Module\n",
    "\n",
    "This notebook shows how to use the TG's Python API Client to interact with the DESIGN module."
   ]
  },
  {
   "cell_type": "markdown",
   "id": "colored-booth",
   "metadata": {},
   "source": [
    "We start by making some imports"
   ]
  },
  {
   "cell_type": "code",
   "execution_count": 1,
   "id": "working-major",
   "metadata": {},
   "outputs": [
    {
     "name": "stdout",
     "output_type": "stream",
     "text": [
      "python version     : 3.6.9\n",
      "pandas version     : 1.1.5\n"
     ]
    }
   ],
   "source": [
    "import platform\n",
    "from pathlib import Path\n",
    "import pandas as pd\n",
    "\n",
    "from teselagen.api import TeselaGenClient\n",
    "from teselagen.utils.plot_tools import plot_plasmid_features\n",
    "\n",
    "print(f\"python version     : {platform.python_version()}\")\n",
    "print(f\"pandas version     : {pd.__version__}\")"
   ]
  },
  {
   "cell_type": "markdown",
   "id": "marked-consequence",
   "metadata": {},
   "source": [
    "And then login into the platform. You should get \"*Connection Accepted*\" printed below. "
   ]
  },
  {
   "cell_type": "code",
   "execution_count": 2,
   "id": "peripheral-brake",
   "metadata": {},
   "outputs": [
    {
     "name": "stdout",
     "output_type": "stream",
     "text": [
      "Connection Accepted\n",
      "Selected Lab: The Test Lab\n"
     ]
    }
   ],
   "source": [
    "# Connect to your teselagen instance by passing it as the 'host_url' argument of TeselaGenClient(host_url=host_url)\n",
    "# client = TeselaGenClient(host_url=\"https://your-instance-name.teselagen.com\")\n",
    "client = TeselaGenClient()\n",
    "client.login()\n",
    "client.select_laboratory(lab_name=\"The Test Lab\")"
   ]
  },
  {
   "cell_type": "code",
   "execution_count": 3,
   "id": "packed-cause",
   "metadata": {},
   "outputs": [
    {
     "name": "stdout",
     "output_type": "stream",
     "text": [
      "https://platform.teselagen.com\n"
     ]
    }
   ],
   "source": [
    "print(client.host_url)"
   ]
  },
  {
   "cell_type": "markdown",
   "id": "graphic-search",
   "metadata": {},
   "source": [
    "Now we will import the DNA sequences named GFP_UV"
   ]
  },
  {
   "cell_type": "code",
   "execution_count": 4,
   "id": "acute-welding",
   "metadata": {},
   "outputs": [],
   "source": [
    "sequence = client.design.get_dna_sequences(name='GFP_UV')"
   ]
  },
  {
   "cell_type": "markdown",
   "id": "impossible-coverage",
   "metadata": {},
   "source": [
    "The `sequence` variable is a list of all sequences named `'GFP_UV'`. We will just get the first one and check the   features it contains"
   ]
  },
  {
   "cell_type": "code",
   "execution_count": 5,
   "id": "narrative-liver",
   "metadata": {},
   "outputs": [
    {
     "name": "stdout",
     "output_type": "stream",
     "text": [
      "pSC101**\n",
      "araC\n",
      "GFPuv\n",
      "RBS\n",
      "CmR\n",
      "signal_peptide\n",
      "XhoI_silent_mutation\n",
      "pBAD promoter\n",
      "Operator I2 and I1\n",
      "operator O1\n",
      "T0\n",
      "CAP site\n",
      "araC promoter\n",
      "dbl term\n",
      "BamHI_silent_mutation\n",
      "operator O2\n"
     ]
    }
   ],
   "source": [
    "features = sequence[0]['features']\n",
    "for feat in features:\n",
    "    print(feat['name'])"
   ]
  },
  {
   "cell_type": "markdown",
   "id": "acquired-perfume",
   "metadata": {},
   "source": [
    "Each element contains all the information about that particular feature. In the following cell we show the contents of the `GFPuv` feature:"
   ]
  },
  {
   "cell_type": "code",
   "execution_count": 6,
   "id": "nuclear-cliff",
   "metadata": {},
   "outputs": [
    {
     "data": {
      "text/plain": [
       "{'notes': [],\n",
       " 'id': '3688073',\n",
       " 'start': 1235,\n",
       " 'end': 2017,\n",
       " 'type': 'CDS',\n",
       " 'name': 'GFPuv',\n",
       " 'strand': 1,\n",
       " 'locations': None,\n",
       " '__typename': 'sequenceFeature',\n",
       " 'annotationTypePlural': 'features',\n",
       " 'forward': True,\n",
       " 'color': '#EF6500'}"
      ]
     },
     "metadata": {},
     "output_type": "display_data"
    }
   ],
   "source": [
    "gfp_uv_feature = [feat for feat in features if feat['name']==\"GFPuv\"][0]\n",
    "display(gfp_uv_feature)"
   ]
  },
  {
   "cell_type": "markdown",
   "id": "vocational-playback",
   "metadata": {},
   "source": [
    "We can use the above object to get the precise amino acid sequence for that feature:"
   ]
  },
  {
   "cell_type": "code",
   "execution_count": 7,
   "id": "pending-syndicate",
   "metadata": {},
   "outputs": [
    {
     "data": {
      "text/plain": [
       "'ATGAGTAAAGGAGAAGAACTTTTCACTGGAGTTGTCCCAATTCTTGTTGAATTAGATGGTGATGTTAATGGGCACAAATTTTCTGTCAGTGGAGAGGGTGAAGGTGATGCAACATACGGAAAACTTACCCTTAAATTTATTTGCACTACTGGAAAACTACCTGTTCCATGGCCAACACTTGTCACTACTTTCTCTTATGGTGTTCAATGCTTTTCCCGTTATCCGGATCATATGAAACGGCATGACTTTTTCAAGAGTGCCATGCCCGAAGGTTATGTACAGGAACGCACTATATCTTTCAAAGATGACGGGAACTACAAGACGCGTGCTGAAGTCAAGTTTGAAGGTGATACCCTTGTTAATCGTATCGAGTTAAAAGGTATTGATTTTAAAGAAGATGGAAACATTCTCGGACACAAACTCGAATACAACTATAACTCACACAATGTATACATCACGGCAGACAAACAAAAGAATGGAATCAAAGCTAACTTCAAAATTCGCCACAACATTGAAGATGGATCTGTTCAACTAGCAGACCATTATCAACAAAATACTCCAATTGGCGATGGCCCTGTCCTTTTACCAGACAACCATTACCTGTCGACACAATCTGCCCTTTCGAAAGATCCCAACGAAAAGCGTGACCACATGGTCCTTCTTGAGTTTGTAACTGCTGCTGGGATTACACATGGCATGGATGAGCTCGGCGGCGGCGGCAGCAAGGTCTACGGCAAGGAACAGTTTTTGCGGATGCGCCAGAGCATGTTCCCCGATCGCTAA'"
      ]
     },
     "execution_count": 7,
     "metadata": {},
     "output_type": "execute_result"
    }
   ],
   "source": [
    "sequence[0]['sequence'][int(gfp_uv_feature['start']):int(gfp_uv_feature['end'])+1]"
   ]
  },
  {
   "cell_type": "markdown",
   "id": "utility-stephen",
   "metadata": {},
   "source": [
    "We can also make a plot of all features by using [dna_features_viewer library](https://github.com/Edinburgh-Genome-Foundry/DnaFeaturesViewer) (see plot_plasmid_features implementation for details). As there are many features we will just focust on the biggest ones (> 100 base pairs)"
   ]
  },
  {
   "cell_type": "code",
   "execution_count": 8,
   "id": "common-capability",
   "metadata": {
    "scrolled": false
   },
   "outputs": [
    {
     "data": {
      "image/png": "[encoded data removed]",
      "text/plain": [
       "<Figure size 360x488.571 with 1 Axes>"
      ]
     },
     "metadata": {
      "needs_background": "light"
     },
     "output_type": "display_data"
    }
   ],
   "source": [
    "_ = plot_plasmid_features(plasmid_length=len(sequence[0]['sequence']), \n",
    "                         features=[feat for feat in features if feat['end']-feat['start']>100])"
   ]
  },
  {
   "cell_type": "code",
   "execution_count": null,
   "id": "smoking-failing",
   "metadata": {},
   "outputs": [],
   "source": []
  }
 ],
 "metadata": {
  "kernelspec": {
   "display_name": "Python 3",
   "language": "python",
   "name": "python3"
  },
  "language_info": {
   "codemirror_mode": {
    "name": "ipython",
    "version": 3
   },
   "file_extension": ".py",
   "mimetype": "text/x-python",
   "name": "python",
   "nbconvert_exporter": "python",
   "pygments_lexer": "ipython3",
   "version": "3.6.9"
  }
 },
 "nbformat": 4,
 "nbformat_minor": 5
}
