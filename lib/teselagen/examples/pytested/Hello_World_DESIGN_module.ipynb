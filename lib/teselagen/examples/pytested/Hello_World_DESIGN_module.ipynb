{
 "cells": [
  {
   "cell_type": "markdown",
   "id": "north-universe",
   "metadata": {},
   "source": [
    "<div align=left style=\"width: 200; height: 80px; overflow: hidden\">\n",
    "    <img src=http://static1.squarespace.com/static/571446ff60b5e92c3a2b4249/57d8a40b9de4bb459f731cf3/58cb2f229de4bb4a049d38c2/1505340359463/teselaGenlogo.jpg align=right width=200>\n",
    "</div>"
   ]
  },
  {
   "cell_type": "markdown",
   "id": "major-armor",
   "metadata": {},
   "source": [
    "# Hello World! DESIGN Module\n",
    "\n",
    "This notebook shows how to use the TG's Python API Client to interact with the DESIGN module."
   ]
  },
  {
   "cell_type": "markdown",
   "id": "colored-booth",
   "metadata": {},
   "source": [
    "We start by making some imports"
   ]
  },
  {
   "cell_type": "code",
   "execution_count": 14,
   "id": "working-major",
   "metadata": {},
   "outputs": [
    {
     "name": "stdout",
     "output_type": "stream",
     "text": [
      "python version     : 3.6.9\n",
      "pandas version     : 1.1.5\n"
     ]
    }
   ],
   "source": [
    "import platform\n",
    "from pathlib import Path\n",
    "import pandas as pd\n",
    "\n",
    "from IPython.core.display import display, HTML\n",
    "from teselagen.api import TeselaGenClient\n",
    "from teselagen.utils.plot_tools import plot_plasmid_features, RenderJSON\n",
    "\n",
    "print(f\"python version     : {platform.python_version()}\")\n",
    "print(f\"pandas version     : {pd.__version__}\")"
   ]
  },
  {
   "cell_type": "markdown",
   "id": "marked-consequence",
   "metadata": {},
   "source": [
    "And then login into the platform. You should get \"*Connection Accepted*\" printed below. "
   ]
  },
  {
   "cell_type": "code",
   "execution_count": 2,
   "id": "peripheral-brake",
   "metadata": {},
   "outputs": [
    {
     "name": "stdout",
     "output_type": "stream",
     "text": [
      "Connection Accepted\n",
      "Selected Lab: The Test Lab\n"
     ]
    }
   ],
   "source": [
    "# Connect to your teselagen instance by passing it as the 'host_url' argument of TeselaGenClient(host_url=host_url)\n",
    "# client = TeselaGenClient(host_url=\"https://your-instance-name.teselagen.com\")\n",
    "client = TeselaGenClient()\n",
    "client.login()\n",
    "client.select_laboratory(lab_name=\"The Test Lab\")"
   ]
  },
  {
   "cell_type": "code",
   "execution_count": 3,
   "id": "packed-cause",
   "metadata": {},
   "outputs": [
    {
     "name": "stdout",
     "output_type": "stream",
     "text": [
      "https://platform.teselagen.com\n"
     ]
    }
   ],
   "source": [
    "print(client.host_url)"
   ]
  },
  {
   "cell_type": "markdown",
   "id": "unnecessary-sculpture",
   "metadata": {},
   "source": [
    "## Downloading DNA sequences"
   ]
  },
  {
   "cell_type": "markdown",
   "id": "graphic-search",
   "metadata": {},
   "source": [
    "Now we will import the DNA sequences named GFP_UV"
   ]
  },
  {
   "cell_type": "code",
   "execution_count": 4,
   "id": "acute-welding",
   "metadata": {},
   "outputs": [],
   "source": [
    "sequence = client.design.get_dna_sequences(name='GFP_UV')"
   ]
  },
  {
   "cell_type": "markdown",
   "id": "impossible-coverage",
   "metadata": {},
   "source": [
    "The `sequence` variable is a list of all sequences named `'GFP_UV'`. We will just get the first one and check the   features it contains"
   ]
  },
  {
   "cell_type": "code",
   "execution_count": 5,
   "id": "narrative-liver",
   "metadata": {},
   "outputs": [
    {
     "name": "stdout",
     "output_type": "stream",
     "text": [
      "pSC101**\n",
      "araC\n",
      "GFPuv\n",
      "RBS\n",
      "CmR\n",
      "signal_peptide\n",
      "XhoI_silent_mutation\n",
      "pBAD promoter\n",
      "Operator I2 and I1\n",
      "operator O1\n",
      "T0\n",
      "CAP site\n",
      "araC promoter\n",
      "dbl term\n",
      "BamHI_silent_mutation\n",
      "operator O2\n"
     ]
    }
   ],
   "source": [
    "features = sequence[0]['features']\n",
    "for feat in features:\n",
    "    print(feat['name'])"
   ]
  },
  {
   "cell_type": "markdown",
   "id": "alike-allah",
   "metadata": {},
   "source": [
    "Each element contains all the information about that particular feature. In the following cell we show the contents of the `GFPuv` feature:"
   ]
  },
  {
   "cell_type": "code",
   "execution_count": 6,
   "id": "nuclear-cliff",
   "metadata": {},
   "outputs": [
    {
     "data": {
      "text/plain": [
       "{'notes': [],\n",
       " 'id': '3688073',\n",
       " 'start': 1235,\n",
       " 'end': 2017,\n",
       " 'type': 'CDS',\n",
       " 'name': 'GFPuv',\n",
       " 'strand': 1,\n",
       " 'locations': None,\n",
       " '__typename': 'sequenceFeature',\n",
       " 'annotationTypePlural': 'features',\n",
       " 'forward': True,\n",
       " 'color': '#EF6500'}"
      ]
     },
     "metadata": {},
     "output_type": "display_data"
    }
   ],
   "source": [
    "gfp_uv_feature = [feat for feat in features if feat['name']==\"GFPuv\"][0]\n",
    "display(gfp_uv_feature)"
   ]
  },
  {
   "cell_type": "markdown",
   "id": "advanced-termination",
   "metadata": {},
   "source": [
    "We can use the above object to get the precise amino acid sequence for that feature:"
   ]
  },
  {
   "cell_type": "code",
   "execution_count": 7,
   "id": "solved-hospital",
   "metadata": {},
   "outputs": [
    {
     "data": {
      "text/plain": [
       "'ATGAGTAAAGGAGAAGAACTTTTCACTGGAGTTGTCCCAATTCTTGTTGAATTAGATGGTGATGTTAATGGGCACAAATTTTCTGTCAGTGGAGAGGGTGAAGGTGATGCAACATACGGAAAACTTACCCTTAAATTTATTTGCACTACTGGAAAACTACCTGTTCCATGGCCAACACTTGTCACTACTTTCTCTTATGGTGTTCAATGCTTTTCCCGTTATCCGGATCATATGAAACGGCATGACTTTTTCAAGAGTGCCATGCCCGAAGGTTATGTACAGGAACGCACTATATCTTTCAAAGATGACGGGAACTACAAGACGCGTGCTGAAGTCAAGTTTGAAGGTGATACCCTTGTTAATCGTATCGAGTTAAAAGGTATTGATTTTAAAGAAGATGGAAACATTCTCGGACACAAACTCGAATACAACTATAACTCACACAATGTATACATCACGGCAGACAAACAAAAGAATGGAATCAAAGCTAACTTCAAAATTCGCCACAACATTGAAGATGGATCTGTTCAACTAGCAGACCATTATCAACAAAATACTCCAATTGGCGATGGCCCTGTCCTTTTACCAGACAACCATTACCTGTCGACACAATCTGCCCTTTCGAAAGATCCCAACGAAAAGCGTGACCACATGGTCCTTCTTGAGTTTGTAACTGCTGCTGGGATTACACATGGCATGGATGAGCTCGGCGGCGGCGGCAGCAAGGTCTACGGCAAGGAACAGTTTTTGCGGATGCGCCAGAGCATGTTCCCCGATCGCTAA'"
      ]
     },
     "execution_count": 7,
     "metadata": {},
     "output_type": "execute_result"
    }
   ],
   "source": [
    "sequence[0]['sequence'][int(gfp_uv_feature['start']):int(gfp_uv_feature['end'])+1]"
   ]
  },
  {
   "cell_type": "markdown",
   "id": "needed-belfast",
   "metadata": {},
   "source": [
    "We can also make a plot of all features by using [dna_features_viewer library](https://github.com/Edinburgh-Genome-Foundry/DnaFeaturesViewer) (see plot_plasmid_features implementation for details). As there are many features we will just focust on the biggest ones (> 100 base pairs)"
   ]
  },
  {
   "cell_type": "code",
   "execution_count": 8,
   "id": "seasonal-globe",
   "metadata": {
    "scrolled": false
   },
   "outputs": [
    {
     "data": {
      "image/png": "[encoded data removed]",
      "text/plain": [
       "<Figure size 360x488.571 with 1 Axes>"
      ]
     },
     "metadata": {
      "needs_background": "light"
     },
     "output_type": "display_data"
    }
   ],
   "source": [
    "_ = plot_plasmid_features(plasmid_length=len(sequence[0]['sequence']), \n",
    "                         features=[feat for feat in features if feat['end']-feat['start']>100])"
   ]
  },
  {
   "cell_type": "markdown",
   "id": "funded-scroll",
   "metadata": {},
   "source": [
    "## Downloading designs\n",
    "\n",
    "Now we will download a design from the platform"
   ]
  },
  {
   "cell_type": "code",
   "execution_count": 9,
   "id": "supposed-glossary",
   "metadata": {},
   "outputs": [],
   "source": [
    "# We first obtain designs id by its name\n",
    "design_name = \"CGG Design demo notebook\"\n",
    "design_info =client.design.get_designs(name=design_name)[0]"
   ]
  },
  {
   "cell_type": "markdown",
   "id": "enabling-princess",
   "metadata": {},
   "source": [
    "Click the following link to see the design in the platform"
   ]
  },
  {
   "cell_type": "code",
   "execution_count": 16,
   "id": "controlled-immunology",
   "metadata": {},
   "outputs": [
    {
     "data": {
      "text/html": [
       "<a href=\"https://platform.teselagen.com/design/client/designs/1288\" target=\"_blank\" rel=\"noopener noreferrer\">https://platform.teselagen.com/design/client/designs/1288</a>"
      ],
      "text/plain": [
       "<IPython.core.display.HTML object>"
      ]
     },
     "metadata": {},
     "output_type": "display_data"
    }
   ],
   "source": [
    "design_url = f\"{client.host_url}/design/client/designs/{design_info['id']}\"\n",
    "display(HTML(f\"\"\"<a href=\"{design_url}\" target=\"_blank\" rel=\"noopener noreferrer\">{design_url}</a>\"\"\"))"
   ]
  },
  {
   "cell_type": "code",
   "execution_count": 11,
   "id": "separate-classics",
   "metadata": {},
   "outputs": [],
   "source": [
    "# Then download design:\n",
    "design = client.design.get_design(design_info['id'])"
   ]
  },
  {
   "cell_type": "markdown",
   "id": "finite-battlefield",
   "metadata": {},
   "source": [
    "You can use the output of the next cell to explore the design object"
   ]
  },
  {
   "cell_type": "code",
   "execution_count": 12,
   "id": "sapphire-particle",
   "metadata": {},
   "outputs": [
    {
     "data": {
      "text/html": [
       "\n",
       "            <div id=\"bcb4fbb5-c49c-4248-973a-c23008f522ac\" style=\"height: max-content; width:100%;background-color: #f2f3ff\";></div>\n",
       "            "
      ]
     },
     "metadata": {},
     "output_type": "display_data"
    },
    {
     "data": {
      "application/javascript": [
       "\n",
       "            require([\"https://rawgit.com/caldwell/renderjson/master/renderjson.js\"], function() {\n",
       "            document.getElementById('bcb4fbb5-c49c-4248-973a-c23008f522ac').appendChild(renderjson({\"design\": {\"aminoAcidPart\": {}, \"aminoAcidSequence\": {}, \"assemblyMethod\": {\"3\": {\"id\": \"3\", \"name\": \"Golden Gate\"}}, \"bin\": {\"7421\": {\"id\": \"7421\", \"direction\": true, \"extra3PrimeBps\": null, \"extra5PrimeBps\": null, \"fro\": null, \"invalidityMessage\": \"\", \"isLocked\": null, \"isPlaceholder\": null, \"name\": \"vector_backbone\", \"iconId\": \"10\"}, \"7422\": {\"id\": \"7422\", \"direction\": true, \"extra3PrimeBps\": null, \"extra5PrimeBps\": null, \"fro\": null, \"invalidityMessage\": \"\", \"isLocked\": null, \"isPlaceholder\": null, \"name\": \"nterm_sig_pep\", \"iconId\": \"4\"}, \"7423\": {\"id\": \"7423\", \"direction\": true, \"extra3PrimeBps\": null, \"extra5PrimeBps\": null, \"fro\": null, \"invalidityMessage\": \"\", \"isLocked\": null, \"isPlaceholder\": null, \"name\": \"gly_ser_linker\", \"iconId\": \"4\"}, \"7424\": {\"id\": \"7424\", \"direction\": true, \"extra3PrimeBps\": null, \"extra5PrimeBps\": null, \"fro\": null, \"invalidityMessage\": \"\", \"isLocked\": null, \"isPlaceholder\": null, \"name\": \"GFPuv\", \"iconId\": \"4\"}, \"7425\": {\"id\": \"7425\", \"direction\": true, \"extra3PrimeBps\": null, \"extra5PrimeBps\": null, \"fro\": null, \"invalidityMessage\": \"\", \"isLocked\": null, \"isPlaceholder\": null, \"name\": \"ssrA_tag_5prime\", \"iconId\": \"14\"}, \"7426\": {\"id\": \"7426\", \"direction\": true, \"extra3PrimeBps\": null, \"extra5PrimeBps\": null, \"fro\": null, \"invalidityMessage\": \"\", \"isLocked\": null, \"isPlaceholder\": null, \"name\": \"ssrA_tag_3prime\", \"iconId\": \"14\"}}, \"binCard\": {\"15060\": {\"id\": \"15060\", \"index\": 0, \"rightJunctionBps\": null, \"hasSpecifiedJunction\": null, \"cardId\": \"8654\", \"binId\": \"7421\"}, \"15061\": {\"id\": \"15061\", \"index\": 1, \"rightJunctionBps\": null, \"hasSpecifiedJunction\": null, \"cardId\": \"8654\", \"binId\": \"7422\"}, \"15062\": {\"id\": \"15062\", \"index\": 2, \"rightJunctionBps\": null, \"hasSpecifiedJunction\": null, \"cardId\": \"8654\", \"binId\": \"7423\"}, \"15063\": {\"id\": \"15063\", \"index\": 3, \"rightJunctionBps\": null, \"hasSpecifiedJunction\": null, \"cardId\": \"8654\", \"binId\": \"7424\"}, \"15064\": {\"id\": \"15064\", \"index\": 4, \"rightJunctionBps\": null, \"hasSpecifiedJunction\": null, \"cardId\": \"8654\", \"binId\": \"7425\"}, \"15065\": {\"id\": \"15065\", \"index\": 5, \"rightJunctionBps\": null, \"hasSpecifiedJunction\": null, \"cardId\": \"8654\", \"binId\": \"7426\"}, \"15066\": {\"id\": \"15066\", \"index\": 0, \"rightJunctionBps\": null, \"hasSpecifiedJunction\": null, \"cardId\": \"8655\", \"binId\": \"7421\"}, \"15067\": {\"id\": \"15067\", \"index\": 0, \"rightJunctionBps\": null, \"hasSpecifiedJunction\": null, \"cardId\": \"8656\", \"binId\": \"7422\"}, \"15068\": {\"id\": \"15068\", \"index\": 0, \"rightJunctionBps\": null, \"hasSpecifiedJunction\": null, \"cardId\": \"8657\", \"binId\": \"7423\"}, \"15069\": {\"id\": \"15069\", \"index\": 0, \"rightJunctionBps\": null, \"hasSpecifiedJunction\": null, \"cardId\": \"8658\", \"binId\": \"7424\"}, \"15070\": {\"id\": \"15070\", \"index\": 0, \"rightJunctionBps\": null, \"hasSpecifiedJunction\": null, \"cardId\": \"8659\", \"binId\": \"7425\"}, \"15071\": {\"id\": \"15071\", \"index\": 0, \"rightJunctionBps\": null, \"hasSpecifiedJunction\": null, \"cardId\": \"8660\", \"binId\": \"7426\"}}, \"binRuleSet\": {}, \"card\": {\"8654\": {\"id\": \"8654\", \"isRoot\": true, \"circular\": true, \"name\": \"\", \"inputIndex\": null, \"dsf\": null, \"hasAvailabilityInfo\": null, \"allConstructsAvailable\": null, \"lastCheckedAvailability\": null, \"inputReactionId\": null, \"outputReactionId\": \"1393\"}, \"8655\": {\"id\": \"8655\", \"isRoot\": null, \"circular\": false, \"name\": null, \"inputIndex\": 0, \"dsf\": null, \"hasAvailabilityInfo\": null, \"allConstructsAvailable\": null, \"lastCheckedAvailability\": null, \"inputReactionId\": \"1393\", \"outputReactionId\": null}, \"8656\": {\"id\": \"8656\", \"isRoot\": null, \"circular\": false, \"name\": null, \"inputIndex\": 1, \"dsf\": true, \"hasAvailabilityInfo\": null, \"allConstructsAvailable\": null, \"lastCheckedAvailability\": null, \"inputReactionId\": \"1393\", \"outputReactionId\": null}, \"8657\": {\"id\": \"8657\", \"isRoot\": null, \"circular\": false, \"name\": null, \"inputIndex\": 2, \"dsf\": null, \"hasAvailabilityInfo\": null, \"allConstructsAvailable\": null, \"lastCheckedAvailability\": null, \"inputReactionId\": \"1393\", \"outputReactionId\": null}, \"8658\": {\"id\": \"8658\", \"isRoot\": null, \"circular\": false, \"name\": null, \"inputIndex\": 3, \"dsf\": null, \"hasAvailabilityInfo\": null, \"allConstructsAvailable\": null, \"lastCheckedAvailability\": null, \"inputReactionId\": \"1393\", \"outputReactionId\": null}, \"8659\": {\"id\": \"8659\", \"isRoot\": null, \"circular\": false, \"name\": null, \"inputIndex\": 4, \"dsf\": true, \"hasAvailabilityInfo\": null, \"allConstructsAvailable\": null, \"lastCheckedAvailability\": null, \"inputReactionId\": \"1393\", \"outputReactionId\": null}, \"8660\": {\"id\": \"8660\", \"isRoot\": null, \"circular\": false, \"name\": null, \"inputIndex\": 5, \"dsf\": null, \"hasAvailabilityInfo\": null, \"allConstructsAvailable\": null, \"lastCheckedAvailability\": null, \"inputReactionId\": \"1393\", \"outputReactionId\": null}}, \"constructAnnotation\": {}, \"customJ5Parameter\": {\"1\": {\"id\": \"1\", \"cid\": \"default\", \"name\": \"Default\", \"dirSynthCostPerBp\": 0.39, \"dirSynthMinCostPerPiece\": 159, \"ggateOverhangBps\": 4, \"ggateRecognitionSeq\": \"GGTCTC\", \"ggateTerminiExtraSeq\": \"CACACCAGGTCTCA\", \"ggateTerminiExtraSeqAlt\": null, \"gibsonOverlapBps\": 26, \"gibsonOverlapMaxTm\": 70, \"gibsonOverlapMinTm\": 60, \"hmlgyMaxFractionMismatches\": 0.05, \"hmlgyMinLengthBps\": 26, \"includeLineageFeatures\": null, \"masterOligoNumOfDigits\": 5, \"masterPlasmidNumOfDigits\": 5, \"maxIdsGgateOverhangsCmptbl\": 2, \"maxOligoLengthBps\": 110, \"minDnaSynthLengthBps\": null, \"maxDnaSynthLengthBps\": null, \"minFragmentSizeGibsonBps\": 250, \"minPcrProductBps\": 100, \"mispriming3PBpToWarnIfHit\": 4, \"misprimingMinTm\": 45, \"misprimingOligoConc\": 2.5e-07, \"misprimingSaltConc\": 0.05, \"oligoMaxLenNoPagePurBps\": 60, \"oligoPagePurCostPerPiece\": 40, \"oligoSynthesisCostPerBp\": 0.1, \"outputSeqFormat\": \"Genbank\", \"primerDnaConc\": 250, \"primerGcClamp\": 2, \"primerMaxDiffTm\": 5, \"primerMaxSelfAnyTh\": 47, \"primerMaxSelfEndTh\": 47, \"primerMaxSize\": 36, \"primerMaxTm\": 70, \"primerMinSize\": 18, \"primerMinTm\": 60, \"primerPairMaxComplAnyTh\": 47, \"primerPairMaxComplEndTh\": 47, \"primerSaltCorrections\": 1, \"primerTmSantaLucia\": 1, \"suppressPrimerAnnotations\": false, \"suppressPurePrimers\": true, \"gatewayAttSites\": \"[{\\\"L\\\":{\\\"name\\\":\\\"L1\\\",\\\"sequence\\\":\\\"AAATAATGATTTTATTTTGMCTGATAGTGACCTGTTCGTTGCAACAMATTGATRAGCAATKMTTTYTTATAATGCCAASTTTGTACAAAAAAGYWG\\\",\\\"overhangStart\\\":82,\\\"overhangLength\\\":7,\\\"isBSide5Prime\\\":0},\\\"R\\\":{\\\"name\\\":\\\"R1\\\",\\\"sequence\\\":\\\"CAASTTTGTACAAAAAAGYWGAACGAGAAACGTAAAATGATATAAATATCAATATATTAAATTAGATTTTGCATAAAAAACAGACTACATAATRCTGTAAAACACAACATATSCAGTCMYWWKG\\\",\\\"overhangStart\\\":7,\\\"overhangLength\\\":7,\\\"isBSide5Prime\\\":1}},{\\\"L\\\":{\\\"name\\\":\\\"L2\\\",\\\"sequence\\\":\\\"CARCTTTCTTGTACAAAGTKGGCATTATAARAAAKMATTGCTYATCAATKTGTTGCAACGAACAGGTCACTATCAGKCAAAATAAAATCATTATTT\\\",\\\"overhangStart\\\":7,\\\"overhangLength\\\":7,\\\"isBSide5Prime\\\":1},\\\"R\\\":{\\\"name\\\":\\\"R2\\\",\\\"sequence\\\":\\\"CMWWRKGACTGSATATGTTGTGTTTTACAGYATTATGTAGTCTGTTTTTTATGCAAAATCTAATTTAATATATTGATATTTATATCATTTTACGTTTCTCGTTCARCTTTCTTGTACAAAGTKG\\\",\\\"overhangStart\\\":110,\\\"overhangLength\\\":7,\\\"isBSide5Prime\\\":0}},{\\\"L\\\":{\\\"name\\\":\\\"L3\\\",\\\"sequence\\\":\\\"AAATAATGATTTTATTTTGMCTGATAGTGACCTGTTCGTTGCAACAMATTGATRAGCAATKMTTTTTTATAATGCCAACTWTGTATAATAAAGTTG\\\",\\\"overhangStart\\\":82,\\\"overhangLength\\\":7,\\\"isBSide5Prime\\\":0},\\\"R\\\":{\\\"name\\\":\\\"R3\\\",\\\"sequence\\\":\\\"CAACTWTGTATAATAAAGTTGAACGAGAAACGTAAAATGATATAAATATCAATATATTAAATTAGATTTTGCATAAAAAACAGACTACATAATRCTGTAAAACACAACATATSCAGTCMYWWKG\\\",\\\"overhangStart\\\":7,\\\"overhangLength\\\":7,\\\"isBSide5Prime\\\":1}},{\\\"L\\\":{\\\"name\\\":\\\"L4\\\",\\\"sequence\\\":\\\"CAACTTTTCTATACAAAGTTGGCATTATAARAAAKMATTGCTYATCAATKTGTTGCAACGAACAGGTCACTATCAGKCAAAATAAAATCATTATTT\\\",\\\"overhangStart\\\":7,\\\"overhangLength\\\":7,\\\"isBSide5Prime\\\":1},\\\"R\\\":{\\\"name\\\":\\\"R4\\\",\\\"sequence\\\":\\\"CMWWRKGACTGSATATGTTGTGTTTTACAGYATTATGTAGTCTGTTTTTTATGCAAAATCTAATTTAATATATTGATATTTATATCATTTTACGTTTCTCGTTCAACTTTTCTATACAAAGTTG\\\",\\\"overhangStart\\\":110,\\\"overhangLength\\\":7,\\\"isBSide5Prime\\\":0}},{\\\"L\\\":{\\\"name\\\":\\\"L5\\\",\\\"sequence\\\":\\\"AAATAATGATTTTATTTTGMCTGATAGTGACCTGTTCGTTGCAACAMATTGATRAGCAATKMTTTYTTATAATGCCAACTTTGTATACAAAAGTTG\\\",\\\"overhangStart\\\":82,\\\"overhangLength\\\":7,\\\"isBSide5Prime\\\":0},\\\"R\\\":{\\\"name\\\":\\\"R5\\\",\\\"sequence\\\":\\\"CAACTTTGTATACAAAAGTTGAACGAGAAACGTAAAATGATATAAATATCAATATATTAAATTAGATTTTGCATAAAAAACAGACTACATAATRCTGTAAAACACAACATATSCAGTCMYWWKG\\\",\\\"overhangStart\\\":7,\\\"overhangLength\\\":7,\\\"isBSide5Prime\\\":1}},{\\\"L\\\":{\\\"name\\\":\\\"L6\\\",\\\"sequence\\\":\\\"CAACTTTTTAATACAAAGTTGGCATTATAARAAAKMATTGCTYATCAATKTGTTGCAACGAACAGGTCACTATCAGKCAAAATAAAATCATTATTT\\\",\\\"overhangStart\\\":7,\\\"overhangLength\\\":7,\\\"isBSide5Prime\\\":1},\\\"R\\\":{\\\"name\\\":\\\"R6\\\",\\\"sequence\\\":\\\"CMWWRKGACTGSATATGTTGTGTTTTACAGYATTATGTAGTCTGTTTTTTATGCAAAATCTAATTTAATATATTGATATTTATATCATTTTACGTTTCTCGTTCAACTTTTTAATACAAAGTTG\\\",\\\"overhangStart\\\":110,\\\"overhangLength\\\":7,\\\"isBSide5Prime\\\":0}}]\"}}, \"design\": {\"1288\": {\"id\": \"1288\", \"userId\": \"161\", \"labId\": \"72\", \"name\": \"CGG Design demo notebook\", \"description\": \"\", \"type\": \"grand-design\", \"boundaryAnalysisType\": \"j5\", \"numPlaceholders\": null, \"layoutType\": \"combinatorial\", \"numRows\": 2, \"reuseOligos\": null}}, \"element\": {\"15082\": {\"id\": \"15082\", \"cid\": \"ubpPSiCSHq\", \"name\": \"pS8c-vector_backbone\", \"index\": 0, \"isLiteral\": null, \"isEmpty\": null, \"isAssemblyPiece\": null, \"apLeftDominant\": null, \"apRightDominant\": null, \"bps\": null, \"preferred3PrimeOverhangs\": \"\", \"preferred5PrimeOverhangs\": \"\", \"invalidityMessage\": null, \"warningMessage\": null, \"extraStartSequence\": null, \"extraEndSequence\": null, \"notes\": null, \"partId\": \"19126\", \"aminoAcidPartId\": null, \"binId\": \"7421\", \"partsetId\": null}, \"15083\": {\"id\": \"15083\", \"cid\": \"hLQpuTFal8\", \"name\": \"GFPuv\", \"index\": 0, \"isLiteral\": null, \"isEmpty\": null, \"isAssemblyPiece\": null, \"apLeftDominant\": null, \"apRightDominant\": null, \"bps\": null, \"preferred3PrimeOverhangs\": \"\", \"preferred5PrimeOverhangs\": \"\", \"invalidityMessage\": null, \"warningMessage\": null, \"extraStartSequence\": null, \"extraEndSequence\": null, \"notes\": null, \"partId\": \"19127\", \"aminoAcidPartId\": null, \"binId\": \"7424\", \"partsetId\": null}, \"15084\": {\"id\": \"15084\", \"cid\": \"4LBRUOvOXs\", \"name\": \"long_gly_ser_linker\", \"index\": 0, \"isLiteral\": null, \"isEmpty\": null, \"isAssemblyPiece\": null, \"apLeftDominant\": null, \"apRightDominant\": null, \"bps\": null, \"preferred3PrimeOverhangs\": \"\", \"preferred5PrimeOverhangs\": \"\", \"invalidityMessage\": null, \"warningMessage\": null, \"extraStartSequence\": null, \"extraEndSequence\": null, \"notes\": null, \"partId\": \"19128\", \"aminoAcidPartId\": null, \"binId\": \"7423\", \"partsetId\": null}, \"15085\": {\"id\": \"15085\", \"cid\": \"Ow5sNlupJW\", \"name\": \"BMC_nterm_sig_pep\", \"index\": 0, \"isLiteral\": null, \"isEmpty\": null, \"isAssemblyPiece\": null, \"apLeftDominant\": null, \"apRightDominant\": null, \"bps\": null, \"preferred3PrimeOverhangs\": \"\", \"preferred5PrimeOverhangs\": \"\", \"invalidityMessage\": null, \"warningMessage\": null, \"extraStartSequence\": null, \"extraEndSequence\": null, \"notes\": null, \"partId\": \"19129\", \"aminoAcidPartId\": null, \"binId\": \"7422\", \"partsetId\": null}, \"15086\": {\"id\": \"15086\", \"cid\": \"UJOrDzylgj\", \"name\": \"short_gly_ser_linker\", \"index\": 1, \"isLiteral\": null, \"isEmpty\": null, \"isAssemblyPiece\": null, \"apLeftDominant\": null, \"apRightDominant\": null, \"bps\": null, \"preferred3PrimeOverhangs\": \"\", \"preferred5PrimeOverhangs\": \"\", \"invalidityMessage\": null, \"warningMessage\": null, \"extraStartSequence\": null, \"extraEndSequence\": null, \"notes\": null, \"partId\": \"19130\", \"aminoAcidPartId\": null, \"binId\": \"7423\", \"partsetId\": null}, \"15087\": {\"id\": \"15087\", \"cid\": \"99z7df3Tk9\", \"name\": \"ccmN_nterm_sig_pep\", \"index\": 1, \"isLiteral\": null, \"isEmpty\": null, \"isAssemblyPiece\": null, \"apLeftDominant\": null, \"apRightDominant\": null, \"bps\": null, \"preferred3PrimeOverhangs\": \"\", \"preferred5PrimeOverhangs\": \"\", \"invalidityMessage\": null, \"warningMessage\": null, \"extraStartSequence\": null, \"extraEndSequence\": null, \"notes\": null, \"partId\": \"19131\", \"aminoAcidPartId\": null, \"binId\": \"7422\", \"partsetId\": null}, \"15088\": {\"id\": \"15088\", \"cid\": \"x2dH_nA9RR\", \"name\": \"ssrA_tag_enhanced_5prime\", \"index\": 1, \"isLiteral\": null, \"isEmpty\": null, \"isAssemblyPiece\": null, \"apLeftDominant\": null, \"apRightDominant\": null, \"bps\": null, \"preferred3PrimeOverhangs\": \"\", \"preferred5PrimeOverhangs\": \"\", \"invalidityMessage\": \"\", \"warningMessage\": null, \"extraStartSequence\": null, \"extraEndSequence\": null, \"notes\": null, \"partId\": \"19132\", \"aminoAcidPartId\": null, \"binId\": \"7425\", \"partsetId\": null}, \"15089\": {\"id\": \"15089\", \"cid\": \"vPbiKAvdEo\", \"name\": \"ssrA_tag_5prime\", \"index\": 0, \"isLiteral\": null, \"isEmpty\": null, \"isAssemblyPiece\": null, \"apLeftDominant\": null, \"apRightDominant\": null, \"bps\": null, \"preferred3PrimeOverhangs\": \"\", \"preferred5PrimeOverhangs\": \"\", \"invalidityMessage\": \"\", \"warningMessage\": null, \"extraStartSequence\": null, \"extraEndSequence\": null, \"notes\": null, \"partId\": \"19133\", \"aminoAcidPartId\": null, \"binId\": \"7425\", \"partsetId\": null}, \"15090\": {\"id\": \"15090\", \"cid\": \"VrzDsYzixi\", \"name\": \"ssrA_tag_3prime\", \"index\": 0, \"isLiteral\": null, \"isEmpty\": null, \"isAssemblyPiece\": null, \"apLeftDominant\": null, \"apRightDominant\": null, \"bps\": null, \"preferred3PrimeOverhangs\": \"\", \"preferred5PrimeOverhangs\": \"\", \"invalidityMessage\": \"\", \"warningMessage\": null, \"extraStartSequence\": null, \"extraEndSequence\": null, \"notes\": null, \"partId\": \"19134\", \"aminoAcidPartId\": null, \"binId\": \"7426\", \"partsetId\": null}}, \"elementCombo\": {}, \"elementElementCombo\": {}, \"elementGroupCombo\": {}, \"elementGroupElementGroupCombo\": {}, \"eugeneRule\": {}, \"eugeneRuleElement\": {}, \"fas\": {\"5465\": {\"id\": \"5465\", \"name\": \"Embed_in_primer_reverse\", \"elementId\": \"15088\", \"reactionId\": \"1393\"}, \"5466\": {\"id\": \"5466\", \"name\": \"Embed_in_primer_reverse\", \"elementId\": \"15089\", \"reactionId\": \"1393\"}, \"5467\": {\"id\": \"5467\", \"name\": \"Embed_in_primer_forward\", \"elementId\": \"15090\", \"reactionId\": \"1393\"}}, \"icon\": {\"4\": {\"id\": \"4\", \"isSbol\": true, \"name\": \"CDS\", \"path\": \"M 9 65 L 27 65 L 42 50 L 27 35 L 9 35 L 9 65 Z\", \"cid\": \"CDS\"}, \"10\": {\"id\": \"10\", \"isSbol\": true, \"name\": \"ORIGIN_OF_REPLICATION\", \"path\": \"M 25, 50  m -12, 0  a 12,12 0 1,0 24,0  a 12,12 0 1,0 -24,0\", \"cid\": \"ORIGIN_OF_REPLICATION\"}, \"14\": {\"id\": \"14\", \"isSbol\": true, \"name\": \"PROTEIN_STABILITY_ELEMENT\", \"path\": \"M 25 65 L 25 52 M 25, 40  m -7, 0  a 7,7 0 1,0 14,0  a 7,7 0 1,0 -14,0\", \"cid\": \"PROTEIN_STABILITY_ELEMENT\"}}, \"j5OutputNamingTemplate\": {}, \"junction\": {\"9799\": {\"id\": \"9799\", \"bps\": null, \"relativePosition\": null, \"isPhantom\": false, \"junctionTypeCode\": \"SCARLESS\", \"threePrimeCardOverhangTypeCode\": null, \"fivePrimeCardOverhangTypeCode\": null, \"fivePrimeCardFormsOverhang\": null, \"restrictionEnzymeId\": null, \"reactionId\": \"1393\", \"fivePrimeCardId\": \"8655\", \"threePrimeCardId\": \"8656\", \"fivePrimeCardEndBinId\": \"7421\", \"threePrimeCardStartBinId\": \"7422\", \"fivePrimeCardInteriorBinId\": \"7421\", \"threePrimeCardInteriorBinId\": \"7422\"}, \"9800\": {\"id\": \"9800\", \"bps\": null, \"relativePosition\": null, \"isPhantom\": false, \"junctionTypeCode\": \"SCARLESS\", \"threePrimeCardOverhangTypeCode\": null, \"fivePrimeCardOverhangTypeCode\": null, \"fivePrimeCardFormsOverhang\": null, \"restrictionEnzymeId\": null, \"reactionId\": \"1393\", \"fivePrimeCardId\": \"8660\", \"threePrimeCardId\": \"8655\", \"fivePrimeCardEndBinId\": \"7426\", \"threePrimeCardStartBinId\": \"7421\", \"fivePrimeCardInteriorBinId\": \"7426\", \"threePrimeCardInteriorBinId\": \"7421\"}, \"9801\": {\"id\": \"9801\", \"bps\": null, \"relativePosition\": null, \"isPhantom\": false, \"junctionTypeCode\": \"SCARLESS\", \"threePrimeCardOverhangTypeCode\": null, \"fivePrimeCardOverhangTypeCode\": null, \"fivePrimeCardFormsOverhang\": null, \"restrictionEnzymeId\": null, \"reactionId\": \"1393\", \"fivePrimeCardId\": \"8656\", \"threePrimeCardId\": \"8657\", \"fivePrimeCardEndBinId\": \"7422\", \"threePrimeCardStartBinId\": \"7423\", \"fivePrimeCardInteriorBinId\": \"7422\", \"threePrimeCardInteriorBinId\": \"7423\"}, \"9802\": {\"id\": \"9802\", \"bps\": null, \"relativePosition\": null, \"isPhantom\": false, \"junctionTypeCode\": \"SCARLESS\", \"threePrimeCardOverhangTypeCode\": null, \"fivePrimeCardOverhangTypeCode\": null, \"fivePrimeCardFormsOverhang\": null, \"restrictionEnzymeId\": null, \"reactionId\": \"1393\", \"fivePrimeCardId\": \"8657\", \"threePrimeCardId\": \"8658\", \"fivePrimeCardEndBinId\": \"7423\", \"threePrimeCardStartBinId\": \"7424\", \"fivePrimeCardInteriorBinId\": \"7423\", \"threePrimeCardInteriorBinId\": \"7424\"}, \"9803\": {\"id\": \"9803\", \"bps\": null, \"relativePosition\": null, \"isPhantom\": false, \"junctionTypeCode\": \"SCARLESS\", \"threePrimeCardOverhangTypeCode\": null, \"fivePrimeCardOverhangTypeCode\": null, \"fivePrimeCardFormsOverhang\": null, \"restrictionEnzymeId\": null, \"reactionId\": \"1393\", \"fivePrimeCardId\": \"8658\", \"threePrimeCardId\": \"8659\", \"fivePrimeCardEndBinId\": \"7424\", \"threePrimeCardStartBinId\": \"7425\", \"fivePrimeCardInteriorBinId\": \"7424\", \"threePrimeCardInteriorBinId\": \"7425\"}, \"9804\": {\"id\": \"9804\", \"bps\": null, \"relativePosition\": null, \"isPhantom\": false, \"junctionTypeCode\": \"SCARLESS\", \"threePrimeCardOverhangTypeCode\": null, \"fivePrimeCardOverhangTypeCode\": null, \"fivePrimeCardFormsOverhang\": null, \"restrictionEnzymeId\": null, \"reactionId\": \"1393\", \"fivePrimeCardId\": \"8659\", \"threePrimeCardId\": \"8660\", \"fivePrimeCardEndBinId\": \"7425\", \"threePrimeCardStartBinId\": \"7426\", \"fivePrimeCardInteriorBinId\": \"7425\", \"threePrimeCardInteriorBinId\": \"7426\"}}, \"part\": {\"19126\": {\"id\": \"19126\", \"name\": \"pS8c-vector_backbone\", \"start\": 2015, \"strand\": 1, \"preferred3PrimeOverhangs\": \"\", \"preferred5PrimeOverhangs\": \"\", \"end\": 1237, \"sequenceId\": \"252070\"}, \"19127\": {\"id\": \"19127\", \"name\": \"GFPuv\", \"start\": 1241, \"strand\": 1, \"preferred3PrimeOverhangs\": \"\", \"preferred5PrimeOverhangs\": \"\", \"end\": 1951, \"sequenceId\": \"252070\"}, \"19128\": {\"id\": \"19128\", \"name\": \"long_gly_ser_linker\", \"start\": 54, \"strand\": 1, \"preferred3PrimeOverhangs\": \"\", \"preferred5PrimeOverhangs\": \"\", \"end\": 101, \"sequenceId\": \"252071\"}, \"19129\": {\"id\": \"19129\", \"name\": \"BMC_nterm_sig_pep\", \"start\": 3, \"strand\": 1, \"preferred3PrimeOverhangs\": \"\", \"preferred5PrimeOverhangs\": \"\", \"end\": 53, \"sequenceId\": \"252071\"}, \"19130\": {\"id\": \"19130\", \"name\": \"short_gly_ser_linker\", \"start\": 54, \"strand\": 1, \"preferred3PrimeOverhangs\": \"\", \"preferred5PrimeOverhangs\": \"\", \"end\": 77, \"sequenceId\": \"252071\"}, \"19131\": {\"id\": \"19131\", \"name\": \"ccmN_nterm_sig_pep\", \"start\": 3, \"strand\": 1, \"preferred3PrimeOverhangs\": \"\", \"preferred5PrimeOverhangs\": \"\", \"end\": 59, \"sequenceId\": \"252072\"}, \"19132\": {\"id\": \"19132\", \"name\": \"ssrA_tag_enhanced_5prime\", \"start\": 0, \"strand\": 1, \"preferred3PrimeOverhangs\": \"\", \"preferred5PrimeOverhangs\": \"\", \"end\": 20, \"sequenceId\": \"252073\"}, \"19133\": {\"id\": \"19133\", \"name\": \"ssrA_tag_5prime\", \"start\": 0, \"strand\": 1, \"preferred3PrimeOverhangs\": \"\", \"preferred5PrimeOverhangs\": \"\", \"end\": 14, \"sequenceId\": \"252074\"}, \"19134\": {\"id\": \"19134\", \"name\": \"ssrA_tag_3prime\", \"start\": 15, \"strand\": 1, \"preferred3PrimeOverhangs\": \"\", \"preferred5PrimeOverhangs\": \"\", \"end\": 32, \"sequenceId\": \"252074\"}}, \"taggedItem\": {\"2997\": {\"partId\": \"19126\", \"id\": \"2997\", \"tagId\": \"62\"}, \"2998\": {\"partId\": \"19126\", \"id\": \"2998\", \"tagId\": \"79\"}, \"2999\": {\"partId\": \"19126\", \"id\": \"2999\", \"tagId\": \"64\"}, \"3000\": {\"partId\": \"19126\", \"id\": \"3000\", \"tagId\": \"65\"}, \"3001\": {\"partId\": \"19126\", \"id\": \"3001\", \"tagId\": \"66\"}, \"3002\": {\"partId\": \"19126\", \"id\": \"3002\", \"tagId\": \"67\"}}, \"partset\": {}, \"partsetPart\": {}, \"reaction\": {\"1393\": {\"id\": \"1393\", \"name\": \"Golden Gate\", \"assemblyMethodId\": \"3\", \"customJ5ParameterId\": \"1\", \"restrictionEnzymeId\": null}}, \"reactionJ5OutputNamingTemplate\": {}, \"restrictionEnzyme\": {}, \"rule\": {}, \"ruleSet\": {}, \"sequence\": {\"252070\": {\"id\": \"252070\", \"name\": \"pj5_00001\", \"description\": \"\", \"circular\": true, \"sequence\": null, \"size\": 5299}, \"252071\": {\"id\": \"252071\", \"name\": \"BMC_nterm_sig_pe\", \"description\": \"\", \"circular\": false, \"sequence\": null, \"size\": 102}, \"252072\": {\"id\": \"252072\", \"name\": \"ccmN_nterm_sig_p\", \"description\": \"\", \"circular\": false, \"sequence\": null, \"size\": 108}, \"252073\": {\"id\": \"252073\", \"name\": \"ssrA_tag_enhance\", \"description\": \"\", \"circular\": false, \"sequence\": null, \"size\": 39}, \"252074\": {\"id\": \"252074\", \"name\": \"ssrA_tag_GFPuv\", \"description\": \"\", \"circular\": false, \"sequence\": null, \"size\": 33}}, \"designMaterialAvailabilityView\": {}, \"sequenceFeature\": {\"3688113\": {\"sequenceId\": \"252070\", \"id\": \"3688113\", \"name\": \"pSC101**\", \"start\": 2163, \"end\": 4391, \"strand\": -1, \"type\": \"rep_origin\"}, \"3688114\": {\"sequenceId\": \"252070\", \"id\": \"3688114\", \"name\": \"araC\", \"start\": 6, \"end\": 884, \"strand\": -1, \"type\": \"CDS\"}, \"3688115\": {\"sequenceId\": \"252070\", \"id\": \"3688115\", \"name\": \"GFPuv\", \"start\": 1235, \"end\": 2017, \"strand\": 1, \"type\": \"CDS\"}, \"3688116\": {\"sequenceId\": \"252070\", \"id\": \"3688116\", \"name\": \"RBS\", \"start\": 1215, \"end\": 1234, \"strand\": 1, \"type\": \"RBS\"}, \"3688117\": {\"sequenceId\": \"252070\", \"id\": \"3688117\", \"name\": \"CmR\", \"start\": 4513, \"end\": 5172, \"strand\": -1, \"type\": \"misc_marker\"}, \"3688118\": {\"sequenceId\": \"252070\", \"id\": \"3688118\", \"name\": \"signal_peptide\", \"start\": 1952, \"end\": 2014, \"strand\": 1, \"type\": \"CDS\"}, \"3688119\": {\"sequenceId\": \"252070\", \"id\": \"3688119\", \"name\": \"XhoI_silent_mutation\", \"start\": 1660, \"end\": 1660, \"strand\": 1, \"type\": \"misc_feature\"}, \"3688120\": {\"sequenceId\": \"252070\", \"id\": \"3688120\", \"name\": \"pBAD promoter\", \"start\": 1160, \"end\": 1187, \"strand\": 1, \"type\": \"promoter\"}, \"3688121\": {\"sequenceId\": \"252070\", \"id\": \"3688121\", \"name\": \"Operator I2 and I1\", \"start\": 1123, \"end\": 1161, \"strand\": 1, \"type\": \"protein_bind\"}, \"3688122\": {\"sequenceId\": \"252070\", \"id\": \"3688122\", \"name\": \"operator O1\", \"start\": 1071, \"end\": 1092, \"strand\": 1, \"type\": \"protein_bind\"}, \"3688123\": {\"sequenceId\": \"252070\", \"id\": \"3688123\", \"name\": \"T0\", \"start\": 4392, \"end\": 4497, \"strand\": 1, \"type\": \"terminator\"}, \"3688124\": {\"sequenceId\": \"252070\", \"id\": \"3688124\", \"name\": \"CAP site\", \"start\": 1114, \"end\": 1127, \"strand\": 1, \"type\": \"misc_binding\"}, \"3688125\": {\"sequenceId\": \"252070\", \"id\": \"3688125\", \"name\": \"araC promoter\", \"start\": 1035, \"end\": 1063, \"strand\": -1, \"type\": \"promoter\"}, \"3688126\": {\"sequenceId\": \"252070\", \"id\": \"3688126\", \"name\": \"dbl term\", \"start\": 2033, \"end\": 2161, \"strand\": 1, \"type\": \"terminator\"}, \"3688127\": {\"sequenceId\": \"252070\", \"id\": \"3688127\", \"name\": \"BamHI_silent_mutation\", \"start\": 1759, \"end\": 1759, \"strand\": 1, \"type\": \"misc_feature\"}, \"3688128\": {\"sequenceId\": \"252070\", \"id\": \"3688128\", \"name\": \"operator O2\", \"start\": 913, \"end\": 930, \"strand\": 1, \"type\": \"protein_bind\"}, \"3688129\": {\"sequenceId\": \"252071\", \"id\": \"3688129\", \"name\": \"gly_ser_linker\", \"start\": 54, \"end\": 101, \"strand\": 1, \"type\": \"misc_feature\"}, \"3688130\": {\"sequenceId\": \"252071\", \"id\": \"3688130\", \"name\": \"GFPuv\", \"start\": 0, \"end\": 101, \"strand\": 1, \"type\": \"CDS\"}, \"3688131\": {\"sequenceId\": \"252071\", \"id\": \"3688131\", \"name\": \"Clostridium_BMC_sig_pep\", \"start\": 3, \"end\": 53, \"strand\": 1, \"type\": \"misc_feature\"}, \"3688132\": {\"sequenceId\": \"252072\", \"id\": \"3688132\", \"name\": \"gly_ser_linker\", \"start\": 60, \"end\": 107, \"strand\": 1, \"type\": \"misc_feature\"}, \"3688133\": {\"sequenceId\": \"252072\", \"id\": \"3688133\", \"name\": \"ccmN_sig_pep\", \"start\": 3, \"end\": 59, \"strand\": 1, \"type\": \"misc_feature\"}, \"3688134\": {\"sequenceId\": \"252072\", \"id\": \"3688134\", \"name\": \"GFPuv\", \"start\": 0, \"end\": 107, \"strand\": 1, \"type\": \"CDS\"}, \"3688135\": {\"sequenceId\": \"252073\", \"id\": \"3688135\", \"name\": \"ssrA tag enhanced\", \"start\": 0, \"end\": 38, \"strand\": 1, \"type\": \"misc_feature\"}, \"3688136\": {\"sequenceId\": \"252073\", \"id\": \"3688136\", \"name\": \"GFPuv\", \"start\": 0, \"end\": 38, \"strand\": 1, \"type\": \"CDS\"}, \"3688137\": {\"sequenceId\": \"252074\", \"id\": \"3688137\", \"name\": \"ssrA tag\", \"start\": 0, \"end\": 32, \"strand\": -1, \"type\": \"misc_feature\"}, \"3688138\": {\"sequenceId\": \"252074\", \"id\": \"3688138\", \"name\": \"GFPuv\", \"start\": 0, \"end\": 32, \"strand\": -1, \"type\": \"CDS\"}}, \"sequenceFragment\": {\"382744\": {\"sequenceId\": \"252070\", \"id\": \"382744\", \"index\": 0, \"fragment\": \"gacgtcttatgacaacttgacggctacatcattcactttttcttcacaaccggcacggaactcgctcgggctggccccggtgcattttttaaatacccgcgagaaatagagttgatcgtcaaaaccaacattgcgaccgacggtggcgataggcatccgggtggtgctcaaaagcagcttcgcctggctgatacgttggtcctcgcgccagcttaagacgctaatccctaactgctggcggaaaagatgtgacagacgcgacggcgacaagcaaacatgctgtgcgacgctggcgatatcaaaattgctgtctgccaggtgatcgctgatgtactgacaagcctcgcgtacccgattatccatcggtggatggagcgactcgttaatcgcttccatgcgccgcagtaacaattgctcaagcagatttatcgccagcagctccgaatagcgcccttccccttgcccggcgttaatgatttgcccaaacaggtcgctgaaatgcggctggtgcgcttcatccgggcgaaagaaccccgtattggcaaatattgacggccagttaagccattcatgccagtaggcgcgcggacgaaagtaaacccactggtgataccattcgcgagcctccggatgacgaccgtagtgatgaatctctcctggcgggaacagcaaaatatcacccggtcggcaaacaaattctcgtccctgatttttcaccaccccctgaccgcgaatggtgagattgagaatataacctttcattcccagcggtcggtcgataaaaaaatcgagataaccgttggcctcaatcggcgttaaacccgccaccagatgggcattaaacgagtatcccggcagcaggggatcattttgcgcttcagccatacttttcatactcccgccattcagagaagaaaccaattgtccatattgcatcagacattgccgtcactgcgtcttttactggctcttctcgctaaccaaaccggtaaccccgcttattaaaagcattctgtaacaaagcgggaccaaagccatgacaaaaacgcgtaacaaaagtgtctataatcacggcagaaaagtccacattgattatttgcacggcgtcacactttgctatgccatagcatttttatccataagattagcggattctacctgacgctttttatcgcaactctctactgtttctccatacccgtttttttgggaatttttaagaaggagatatacatatgagtaaaggagaagaacttttcactggagttgtcccaattcttgttgaattagatggtgatgttaatgggcacaaattttctgtcagtggagagggtgaaggtgatgcaacatacggaaaacttacccttaaatttatttgcactactggaaaactacctgttccatggccaacacttgtcactactttctcttatggtgttcaatgcttttcccgttatccggatcatatgaaacggcatgactttttcaagagtgccatgcccgaaggttatgtacaggaacgcactatatctttcaaagatgacgggaactacaagacgcgtgctgaagtcaagtttgaaggtgatacccttgttaatcgtatcgagttaaaaggtattgattttaaagaagatggaaacattctcggacacaaactcgaatacaactataactcacacaatgtatacatcacggcagacaaacaaaagaatggaatcaaagctaacttcaaaattcgccacaacattgaagatggatctgttcaactagcagaccattatcaacaaaatactccaattggcgatggccctgtccttttaccagacaaccattacctgtcgacacaatctgccctttcgaaagatcccaacgaaaagcgtgaccacatggtccttcttgagtttgtaactgctgctgggattacacatggcatggatgagctcggcggcggcggcagcaaggtctacggcaaggaacagtttttgcggatgcgccagagcatgttccccgatcgctaaatcgagtaaggatctccaggcatcaaataaaacgaaaggctcagtcgaaagactgggcctttcgttttatctgttgtttgtcggtgaacgctctctactagagtcacactggctcaccttcgggtgggcctttctgcgtttatacctagggtacgggttttgctgcccgcaaacgggctgttctggtgttgctagtttgttatcagaatcgcagatccggcttcagccggtttgccggctgaaagcgctatttcttccagaattgccatgattttttccccacgggaggcgtcactggctcccgtgttgtcggcagctttgattcgataagcagcatcgcctgtttcaggctgtctatgtgtgactgttgagctgtaacaagttgtctcaggtgttcaatttcatgttctagttgctttgttttactggtttcacctgttctattaggtgttacatgctgttcatctgttacattgtcgatctgttcatggtgaacagctttgaatgcaccaaaaactcgtaaaagctctgatgtatctatcttttttacaccgttttcatctgtgcatatggacagttttccctttgatatgtaacggtgaacagttgttctacttttgtttgttagtcttgatgcttcactgatagatacaagagccataagaacctcagatccttccgtatttagccagtatgttctctagtgtggttcgttgtttttgcgtgagccatgagaacgaaccattgagatcatacttactttgcatgtcactcaaaaattttgcctcaaaactggtgagctgaatttttgcagttaaagcatcgtgtagtgtttttcttagtccgttatgtaggtaggaatctgatgtaatggttgttggtattttgtcaccattcatttttatctggttgttctcaagttcggttacgagatccatttgtctatctagttcaacttggaaaatcaacgtatcagtcgggcggcctcgcttatcaaccaccaatttcatattgctgtaagtgtttaaatctttacttattggtttcaaaacccattggttaagccttttaaactcatggtagttattttcaagcattaacatgaacttaaattcatcaaggctaatctctatatttgccttgtgagttttcttttgtgttagttcttttaataaccactcataaatcctcatagagtatttgttttcaaaagacttaacatgttccagattatattttatgaatttttttaactggaaaagataaggcaatatctcttcactaaaaactaattctaatttttcgcttgagaacttggcatagtttgtccactggaaaatctcaaagcctttaaccaaaggattcctgatttccacagttctcgtcatcagctctctggttgctttagctaatacaccataagcattttccctactgatgttcatcatctgagcgtattggttataagtgaacgataccgtccgttctttccttgtagggttttcaatcgtggggttgagtagtgccacacagcataaaattagcttggtttcatgctccgttaagtcatagcgactaatcgctagttcatttgctttgaaaacaactaattcagacatacatctcaattggtctaggtgattttaatcactataccaattgagatgggctagtcaatgataattactagtccttttcccgggtgatctgggtatctgtaaattctgctagacctttgctggaaaacttgtaaattctgctagaccctctgtaaattccgctagacctttgtgtgttttttttgtttatattcaagtggttataatttatagaataaagaaagaataaaaaaagataaaaagaatagatcccagccctgtgtataactcactactttagtcagttccgcagtattacaaaaggatgtcgcaaacgctgtttgctcctctacaaaacagaccttaaaaccctaaaggcttaag\"}, \"382745\": {\"sequenceId\": \"252070\", \"id\": \"382745\", \"index\": 1, \"fragment\": \"tagcaccctcgcaagctcgggcaaatcgctgaatattccttttgtctccgaccatcaggcacctgagtcgctgtctttttcgtgacattcagttcgctgcgctcacggctctggcagtgaatgggggtaaatggcactacaggcgccttttatggattcatgcaaggaaactacccataatacaagaaaagcccgtcacgggcttctcagggcgttttatggcgggtctgctatgtggtgctatctgactttttgctgttcagcagttcctgccctctgattttccagtctgaccacttcggattatcccgtgacaggtcattcagactggctaatgcacccagtaaggcagcggtatcatcaacaggcttacccgtcttactgtccctagtgcttggattctcaccaataaaaaacgcccggcggcaaccgagcgttctgaacaaatccagatggagttctgaggtcattactggatctatcaacaggagtccaagcgagctcgatatcaaattacgccccgccctgccactcatcgcagtactgttgtaattcattaagcattctgccgacatggaagccatcacaaacggcatgatgaacctgaatcgccagcggcatcagcaccttgtcgccttgcgtataatatttgcccatggtgaaaacgggggcgaagaagttgtccatattggccacgtttaaatcaaaactggtgaaactcacccagggattggctgagacgaaaaacatattctcaataaaccctttagggaaataggccaggttttcaccgtaacacgccacatcttgcgaatatatgtgtagaaactgccggaaatcgtcgtggtattcactccagagcgatgaaaacgtttcagtttgctcatggaaaacggtgtaacaagggtgaacactatcccatatcaccagctcaccgtctttcattgccatacgaaattccggatgagcattcatcaggcgggcaagaatgtgaataaaggccggataaaacttgtgcttatttttctttacggtctttaaaaaggccgtaatatccagctgaacggtctggttataggtacattgagcaactgactgaaatgcctcaaaatgttctttacgatgccattgggatatatcaacggtggtatatccagtgatttttttctccattttagcttccttagctcctgaaaatctcgataactcaaaaaatacgcccggtagtgatcttatttcattatggtgaaagttggaacctcttacgtgccgatcaacgtctcattttcgccagatatc\"}, \"382746\": {\"sequenceId\": \"252071\", \"id\": \"382746\", \"index\": 0, \"fragment\": \"atggaaaataacgctttattagaacaaataatcaatgaagttttaaaaaatatgggtggcagtggtagcgggagctcgggtggctcaggctctggttccagt\"}, \"382747\": {\"sequenceId\": \"252072\", \"id\": \"382747\", \"index\": 0, \"fragment\": \"atgaaggtctacggcaaggaacagtttttgcggatgcgccagagcatgttccccgatcgcggtggcagtggtagcgggagctcgggtggctcaggctctggttccagt\"}, \"382748\": {\"sequenceId\": \"252073\", \"id\": \"382748\", \"index\": 0, \"fragment\": \"gcggcgaacgatgaaaactataactatgcgctggcggcg\"}, \"382749\": {\"sequenceId\": \"252074\", \"id\": \"382749\", \"index\": 0, \"fragment\": \"gcggcgaacgatgaaaactatgcgctggcggcg\"}}, \"tag\": {\"62\": {\"id\": \"62\", \"name\": \"rna stability element\", \"color\": \"#C0C0C0\"}, \"64\": {\"id\": \"64\", \"name\": \"protease site\", \"color\": \"#C0C0C0\"}, \"65\": {\"id\": \"65\", \"name\": \"operator\", \"color\": \"#C0C0C0\"}, \"66\": {\"id\": \"66\", \"name\": \"ribonuclease site\", \"color\": \"#C0C0C0\"}, \"67\": {\"id\": \"67\", \"name\": \"user defined\", \"color\": \"#3366FF\"}, \"79\": {\"id\": \"79\", \"name\": \"3' overhang\", \"color\": \"#C0C0C0\"}}, \"tagOption\": {}, \"tagRule\": {}, \"set\": {}}, \"hdeDesignExportVersion\": 3}))\n",
       "            });\n",
       "            "
      ]
     },
     "metadata": {},
     "output_type": "display_data"
    }
   ],
   "source": [
    "RenderJSON(design)"
   ]
  },
  {
   "cell_type": "code",
   "execution_count": null,
   "id": "dependent-configuration",
   "metadata": {},
   "outputs": [],
   "source": []
  }
 ],
 "metadata": {
  "kernelspec": {
   "display_name": "Python 3",
   "language": "python",
   "name": "python3"
  },
  "language_info": {
   "codemirror_mode": {
    "name": "ipython",
    "version": 3
   },
   "file_extension": ".py",
   "mimetype": "text/x-python",
   "name": "python",
   "nbconvert_exporter": "python",
   "pygments_lexer": "ipython3",
   "version": "3.6.9"
  }
 },
 "nbformat": 4,
 "nbformat_minor": 5
}
