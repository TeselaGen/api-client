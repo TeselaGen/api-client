{
 "cells": [
  {
   "cell_type": "markdown",
   "metadata": {},
   "source": [
    "<div align=left style=\"width: 200; height: 80px; overflow: hidden\">\n",
    "    <img src=http://static1.squarespace.com/static/571446ff60b5e92c3a2b4249/57d8a40b9de4bb459f731cf3/58cb2f229de4bb4a049d38c2/1505340359463/teselaGenlogo.jpg align=right width=200>\n",
    "</div>"
   ]
  },
  {
   "cell_type": "markdown",
   "metadata": {},
   "source": [
    "# Hello World! (TEST module)"
   ]
  },
  {
   "cell_type": "markdown",
   "metadata": {},
   "source": [
    "This notebook is intended to show how to use the Teselagen Python's client to access the TEST module. "
   ]
  },
  {
   "cell_type": "code",
   "execution_count": null,
   "metadata": {},
   "outputs": [],
   "source": [
    "import json\n",
    "import platform\n",
    "from pathlib import Path\n",
    "\n",
    "import matplotlib\n",
    "import matplotlib.pyplot as plt\n",
    "import pandas as pd\n",
    "\n",
    "from teselagen.api import TeselaGenClient\n",
    "from teselagen.utils.utils import get_project_root\n",
    "\n",
    "plt.style.use('seaborn-colorblind')\n",
    "\n",
    "print(f\"python version     : {platform.python_version()}\")\n",
    "print(f\"json version       : {json.__version__}\")\n",
    "print(f\"pandas version     : {pd.__version__}\")\n",
    "print(f\"matplotlib version : {matplotlib.__version__}\")"
   ]
  },
  {
   "cell_type": "markdown",
   "metadata": {},
   "source": [
    "## Connect and Login"
   ]
  },
  {
   "cell_type": "code",
   "execution_count": null,
   "metadata": {},
   "outputs": [],
   "source": [
    "# Connect to your teselagen instance by passing it as the 'host_url' argument of TESTCLient(host_url=host_url)\n",
    "#host_url = \"https://your.teselagen.instance.com\"\n",
    "#client = TESTClient(host_url = host_url)\n",
    "client = TeselaGenClient()\n",
    "# The following command will promt you to type username (email) and password\n",
    "client.login()\n",
    "# Alternatively you can add credential information in the arguments\n",
    "#client.login(username=\"your@email\", password=\"ZZZ\")"
   ]
  },
  {
   "cell_type": "markdown",
   "metadata": {},
   "source": [
    "## Laboratories\n",
    "\n",
    "Laboratories are used to separate data access into groups of users. When you add an experiment into a lab it will only be seen by users that have access to that Lab. "
   ]
  },
  {
   "cell_type": "markdown",
   "metadata": {},
   "source": [
    "Now we list all available laboratories"
   ]
  },
  {
   "cell_type": "code",
   "execution_count": null,
   "metadata": {},
   "outputs": [],
   "source": [
    "labs = client.get_laboratories()\n",
    "display(labs)"
   ]
  },
  {
   "cell_type": "markdown",
   "metadata": {},
   "source": [
    "At the next cell a lab is selected. The remaining actions of this notebook will be done inside that lab."
   ]
  },
  {
   "cell_type": "code",
   "execution_count": null,
   "metadata": {},
   "outputs": [],
   "source": [
    "## Select a Laboratory\n",
    "client.select_laboratory(lab_name=\"Python\")"
   ]
  },
  {
   "cell_type": "markdown",
   "metadata": {},
   "source": [
    "## Experiments\n",
    "\n",
    "Experiments represents all the studies inside a laboratory. Each experiment can contain several Assays. The **get_experiments** function returns a list of dictionaries that contain experiments information."
   ]
  },
  {
   "cell_type": "code",
   "execution_count": null,
   "metadata": {},
   "outputs": [],
   "source": [
    "## Get My Experiments from the selected Laboratory.\n",
    "experiments = client.test.get_experiments()\n",
    "# Print some of them\n",
    "for exp in experiments: print(exp)"
   ]
  },
  {
   "cell_type": "code",
   "execution_count": null,
   "metadata": {},
   "outputs": [],
   "source": [
    "## Create a new Experiment in the selected Laboratory.\n",
    "new_experiment = client.test.create_experiment(experiment_name=\"Jupyter Experiment\")\n",
    "print(new_experiment)"
   ]
  },
  {
   "cell_type": "markdown",
   "metadata": {},
   "source": [
    "## Assays\n",
    "\n",
    "The assay object allows you to group data obtained from the same *protocol*.\n",
    "\n",
    "Likewise other getters, the get_assays output can be easily parsed into a pandas dataframe. Here we show you how:"
   ]
  },
  {
   "cell_type": "code",
   "execution_count": null,
   "metadata": {},
   "outputs": [],
   "source": [
    "## Get All Assays From all experiments in the selected Laboratory\n",
    "assays_dataframe = pd.DataFrame(client.get_assays())\n",
    "# Or, alternatevily, if you want to use id as index in the dataframe\n",
    "#assays_dataframe = pd.DataFrame.from_records(client.get_assays(), index='id')\n",
    "display(assays_dataframe)"
   ]
  },
  {
   "cell_type": "markdown",
   "metadata": {},
   "source": [
    "You can also create assays using the client"
   ]
  },
  {
   "cell_type": "code",
   "execution_count": null,
   "metadata": {},
   "outputs": [],
   "source": [
    "## Create a new Assay within a new experiment\n",
    "new_assay = client.test.create_assay(experiment_id=new_experiment['id'], assay_name='Jupyter Assay')\n",
    "print(new_assay)"
   ]
  },
  {
   "cell_type": "markdown",
   "metadata": {},
   "source": [
    "And you can list all assays from an experiment"
   ]
  },
  {
   "cell_type": "code",
   "execution_count": null,
   "metadata": {},
   "outputs": [],
   "source": [
    "## Get All Assays From Experiment with ID=\"experiment_id\"\n",
    "assays = pd.DataFrame(client.get_assays(experiment_id=new_experiment['id'])) \n",
    "display(assays)"
   ]
  },
  {
   "cell_type": "markdown",
   "metadata": {},
   "source": [
    "## Files\n",
    "\n",
    "The TEST module can also store files. Files are shared between users of the same lab and can be associated to specific assays."
   ]
  },
  {
   "cell_type": "code",
   "execution_count": null,
   "metadata": {},
   "outputs": [],
   "source": [
    "## Get All Files info from the selected Laboratory\n",
    "pd.DataFrame(client.test.get_files_info()).head()\n",
    "## You can fetch info from a specific assay using the assay_id argument\n",
    "#display(pd.DataFrame(client.get_files(assay_id=new_assay['id'])))"
   ]
  },
  {
   "cell_type": "code",
   "execution_count": null,
   "metadata": {},
   "outputs": [],
   "source": [
    "## Upload a File with an Assay.\n",
    "filepath = str(get_project_root() / \"teselagen/examples/test_module_example.csv\")\n",
    "new_file_info = client.test.upload_file(filepath=filepath, assay_id=new_assay['id'])\n",
    "## Upload a File without an Assay.\n",
    "#new_file_info = client.upload_file(filepath=\"./test_module_example.csv\")\n",
    "print(new_file_info)"
   ]
  },
  {
   "cell_type": "code",
   "execution_count": null,
   "metadata": {},
   "outputs": [],
   "source": [
    "## Gets File data contens\n",
    "binarydata = client.test.download_file(file_id=new_file_info['id'])\n",
    "df_file = pd.read_csv(binarydata, sep=\",\")\n",
    "df_file.head()"
   ]
  },
  {
   "cell_type": "markdown",
   "metadata": {},
   "source": [
    "## Delete elements\n",
    "\n",
    "You can delete an experiment to remove all its assays. Files work differently and you need to explicitly delete them. In the next cells we will download each object specifically:"
   ]
  },
  {
   "cell_type": "code",
   "execution_count": null,
   "metadata": {},
   "outputs": [],
   "source": [
    "## Deletes a File\n",
    "client.test.delete_file(file_id=new_file_info['id'])"
   ]
  },
  {
   "cell_type": "code",
   "execution_count": null,
   "metadata": {},
   "outputs": [],
   "source": [
    "## Delete an Assay\n",
    "client.test.delete_assay(assay_id=new_assay['id'])"
   ]
  },
  {
   "cell_type": "code",
   "execution_count": null,
   "metadata": {},
   "outputs": [],
   "source": [
    "## Delete an Experiment from the selected laboratory.\n",
    "client.test.delete_experiment(experiment_id=new_experiment['id'])"
   ]
  },
  {
   "cell_type": "code",
   "execution_count": null,
   "metadata": {},
   "outputs": [],
   "source": [
    "# Delete all experiments with the name Jupyter Experiment \n",
    "# (if any remains due to uncompleted executions of the notebook)\n",
    "# experiments = client.get_experiments()\n",
    "# for exp in experiments:\n",
    "#     if exp['name'] == \"Jupyter Experiment\":\n",
    "#         client.delete_experiment(experiment_id=exp['id'])"
   ]
  }
 ],
 "metadata": {
  "kernelspec": {
   "display_name": "Python 3",
   "language": "python",
   "name": "python3"
  },
  "language_info": {
   "codemirror_mode": {
    "name": "ipython",
    "version": 3
   },
   "file_extension": ".py",
   "mimetype": "text/x-python",
   "name": "python",
   "nbconvert_exporter": "python",
   "pygments_lexer": "ipython3",
   "version": "3.6.9"
  }
 },
 "nbformat": 4,
 "nbformat_minor": 4
}
