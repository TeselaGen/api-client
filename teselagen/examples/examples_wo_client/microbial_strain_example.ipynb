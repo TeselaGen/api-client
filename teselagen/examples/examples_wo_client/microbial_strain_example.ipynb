{
 "cells": [
  {
   "cell_type": "markdown",
   "metadata": {},
   "source": [
    "# Handling Microbial Strains with TeselaGen API\n",
    "\n",
    "This notebook provides a step-by-step guide to querying microbial strains from the TeselaGen API. Specifically, we will demonstrate how to authenticate with the API, retrieve data about microbial strains that have associated plasmids with specific size criteria, and organize the results into a pandas DataFrame for easy analysis."
   ]
  },
  {
   "cell_type": "markdown",
   "metadata": {},
   "source": [
    "## Prerequisites\n",
    "Make sure you have the following packages installed:\n",
    "- `dotenv` (for loading environment variables)\n",
    "- `pandas` (for handling data)\n",
    "- Create a `.env` file with your credentials (`USERNAME`, `PASSWORD`, `HOST_URL`)\n",
    "\n",
    "Install the packages using:\n",
    "```bash\n",
    "pip install python-dotenv pandas"
   ]
  },
  {
   "cell_type": "markdown",
   "metadata": {},
   "source": [
    "## Generating a One-Time Password (OTP)\n",
    "To authenticate, you need to generate a one-time password (OTP). You can do this from your TeselaGen instance by navigating to: Settings > API Password > Generate API OTP. Use this OTP as your `PASSWORD` for logging in via the API."
   ]
  },
  {
   "cell_type": "code",
   "execution_count": null,
   "metadata": {},
   "outputs": [],
   "source": [
    "# Step 1: Import required libraries\n",
    "from dotenv import load_dotenv\n",
    "import requests\n",
    "import os\n",
    "import json\n",
    "import pandas as pd\n",
    "\n",
    "# Load the variables from the .env file\n",
    "load_dotenv('./credentials.env', override=True)\n",
    "\n",
    "# Read credentials from the environment file\n",
    "USERNAME = os.getenv('USERNAME')\n",
    "PASSWORD = os.getenv('PASSWORD')\n",
    "HOST_URL = os.getenv('HOST_URL')\n",
    "\n",
    "# Create a persistent session object and set default headers\n",
    "session = requests.Session()\n",
    "session.headers.update({'Content-Type': 'application/json', 'Accept': 'application/json'})\n",
    "\n",
    "# Define credentials to be sent for authentication\n",
    "credentials_json = {\n",
    "    'username': USERNAME,\n",
    "    'password': PASSWORD,\n",
    "    'expiresIn': '1w',  # Session token will expire in 1 week\n",
    "}\n",
    "\n",
    "# Send authentication request\n",
    "response = session.put(url=f'{HOST_URL}/public/auth', json=credentials_json)\n",
    "response.raise_for_status()\n",
    "\n",
    "# Update session headers to include the token\n",
    "session.headers.update({\n",
    "    'x-tg-cli-token': response.json()['token']\n",
    "})\n",
    "\n",
    "print(\"Successfully authenticated!\")"
   ]
  },
  {
   "cell_type": "markdown",
   "metadata": {},
   "source": [
    "## Step 2: Define Query to Filter Microbial Strains\n",
    "We will define a query to retrieve microbial strains that have plasmids of specific sizes. The query will fetch strains with plasmids having a size greater than or equal to 8000 base pairs or less than or equal to 3000 base pairs.\n"
   ]
  },
  {
   "cell_type": "code",
   "execution_count": 17,
   "metadata": {},
   "outputs": [],
   "source": [
    "# Step 2: Define the query to retrieve microbial strains based on plasmid size\n",
    "query = {\n",
    "    \"__objectType\": \"query\",\n",
    "    \"type\": \"root\",\n",
    "    \"entity\": \"strain\",\n",
    "    \"filters\": [\n",
    "        {\n",
    "            \"type\": \"group\",\n",
    "            \"operator\": \"or\",\n",
    "            \"filters\": [\n",
    "                {\n",
    "                    \"type\": \"expression\",\n",
    "                    \"operator\": \"greaterThanOrEqual\",\n",
    "                    \"field\": \"strainPlasmids.polynucleotideMaterial.polynucleotideMaterialSequence.size\",\n",
    "                    \"args\": [\"8000\"]\n",
    "                },\n",
    "                {\n",
    "                    \"type\": \"expression\",\n",
    "                    \"operator\": \"lessThanOrEqual\",\n",
    "                    \"field\": \"strainPlasmids.polynucleotideMaterial.polynucleotideMaterialSequence.size\",\n",
    "                    \"args\": [\"3000\"]\n",
    "                }\n",
    "            ]\n",
    "        }\n",
    "    ]\n",
    "}\n",
    "\n",
    "# Convert the query to a JSON string for the request\n",
    "query_string = json.dumps(query)\n",
    "query_params = {\n",
    "    'filter': query_string\n",
    "}"
   ]
  },
  {
   "cell_type": "markdown",
   "metadata": {},
   "source": [
    "## Step 3: Retrieve Microbial Strains Data\n",
    "We will now send a GET request to the microbial-strain endpoint of the TeselaGen API using the query we defined above. The response will include detailed information about the microbial strains that meet the specified plasmid size criteria.\n"
   ]
  },
  {
   "cell_type": "code",
   "execution_count": null,
   "metadata": {},
   "outputs": [],
   "source": [
    "# Step 3: Send a GET request to retrieve microbial strains data\n",
    "response = session.get(url=f'{HOST_URL}/microbial-strain', params=query_params)\n",
    "response.raise_for_status()\n",
    "results = response.json()\n",
    "\n",
    "print(\"Data successfully retrieved!\")"
   ]
  },
  {
   "cell_type": "markdown",
   "metadata": {},
   "source": [
    "## Step 4: Organize and Display Data\n",
    "We will process the data using pandas to create a structured DataFrame. The DataFrame will contain information such as:\n",
    "- Strain ID, Name, and Biosafety Level\n",
    "- Plasmid ID, Name, Size, and Sequence\n",
    "\n",
    "This will allow easy viewing, analysis, and further processing of the microbial strain data.\n"
   ]
  },
  {
   "cell_type": "code",
   "execution_count": null,
   "metadata": {},
   "outputs": [],
   "source": [
    "# Step 4: Organize the retrieved data into a pandas DataFrame\n",
    "df = pd.json_normalize(\n",
    "    results, \n",
    "    record_path=['plasmids'], \n",
    "    meta=['id', 'name', 'biosafetyLevel'], \n",
    "    record_prefix='plasmid_'\n",
    ")\n",
    "\n",
    "# Select relevant columns\n",
    "df = df[['id', 'name', 'biosafetyLevel', 'plasmid_id', 'plasmid_name', 'plasmid_size', 'plasmid_sequence']]\n",
    "\n",
    "# Display the first few rows of the DataFrame\n",
    "df.head()\n"
   ]
  }
 ],
 "metadata": {
  "kernelspec": {
   "display_name": "data_with_pip",
   "language": "python",
   "name": "python3"
  },
  "language_info": {
   "codemirror_mode": {
    "name": "ipython",
    "version": 3
   },
   "file_extension": ".py",
   "mimetype": "text/x-python",
   "name": "python",
   "nbconvert_exporter": "python",
   "pygments_lexer": "ipython3",
   "version": "3.10.13"
  }
 },
 "nbformat": 4,
 "nbformat_minor": 2
}
